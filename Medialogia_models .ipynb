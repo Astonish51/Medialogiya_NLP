{
  "cells": [
    {
      "cell_type": "code",
      "execution_count": 1,
      "metadata": {
        "id": "oSGOn4YzBnQj"
      },
      "outputs": [],
      "source": [
        "#!pip install transliterate\n",
        "#!pip instal fasttext"
      ]
    },
    {
      "cell_type": "code",
      "source": [
        "! pip install -r requirements.txt"
      ],
      "metadata": {
        "colab": {
          "base_uri": "https://localhost:8080/"
        },
        "id": "1uLmPlAhVown",
        "outputId": "86a7962c-a0dd-4065-f6a4-d1cb446092a2"
      },
      "execution_count": 2,
      "outputs": [
        {
          "output_type": "stream",
          "name": "stdout",
          "text": [
            "Collecting torch@ https://download.pytorch.org/whl/cu118/torch-2.1.0%2Bcu118-cp310-cp310-linux_x86_64.whl#sha256=a81b554184492005543ddc32e96469f9369d778dedd195d73bda9bed407d6589 (from -r requirements.txt (line 10))\n",
            "  Downloading https://download.pytorch.org/whl/cu118/torch-2.1.0%2Bcu118-cp310-cp310-linux_x86_64.whl (2325.9 MB)\n",
            "\u001b[2K     \u001b[90m━━━━━━━━━━━━━━━━━━━━━━━━━━━━━━━━━━━━━━━━\u001b[0m \u001b[32m2.3/2.3 GB\u001b[0m \u001b[31m856.0 kB/s\u001b[0m eta \u001b[36m0:00:00\u001b[0m\n",
            "\u001b[?25hCollecting torchaudio@ https://download.pytorch.org/whl/cu118/torchaudio-2.1.0%2Bcu118-cp310-cp310-linux_x86_64.whl#sha256=cdfd0a129406155eee595f408cafbb92589652da4090d1d2040f5453d4cae71f (from -r requirements.txt (line 11))\n",
            "  Downloading https://download.pytorch.org/whl/cu118/torchaudio-2.1.0%2Bcu118-cp310-cp310-linux_x86_64.whl (3.2 MB)\n",
            "\u001b[2K     \u001b[90m━━━━━━━━━━━━━━━━━━━━━━━━━━━━━━━━━━━━━━━━\u001b[0m \u001b[32m3.2/3.2 MB\u001b[0m \u001b[31m81.7 MB/s\u001b[0m eta \u001b[36m0:00:00\u001b[0m\n",
            "\u001b[?25hCollecting torchvision@ https://download.pytorch.org/whl/cu118/torchvision-0.16.0%2Bcu118-cp310-cp310-linux_x86_64.whl#sha256=033712f65d45afe806676c4129dfe601ad1321d9e092df62b15847c02d4061dc (from -r requirements.txt (line 15))\n",
            "  Downloading https://download.pytorch.org/whl/cu118/torchvision-0.16.0%2Bcu118-cp310-cp310-linux_x86_64.whl (6.2 MB)\n",
            "\u001b[2K     \u001b[90m━━━━━━━━━━━━━━━━━━━━━━━━━━━━━━━━━━━━━━━━\u001b[0m \u001b[32m6.2/6.2 MB\u001b[0m \u001b[31m84.5 MB/s\u001b[0m eta \u001b[36m0:00:00\u001b[0m\n",
            "\u001b[?25hRequirement already satisfied: geopandas==0.13.2 in /usr/local/lib/python3.10/dist-packages (from -r requirements.txt (line 1)) (0.13.2)\n",
            "Collecting nlpaug==1.1.11 (from -r requirements.txt (line 2))\n",
            "  Downloading nlpaug-1.1.11-py3-none-any.whl (410 kB)\n",
            "\u001b[2K     \u001b[90m━━━━━━━━━━━━━━━━━━━━━━━━━━━━━━━━━━━━━━━━\u001b[0m \u001b[32m410.5/410.5 kB\u001b[0m \u001b[31m6.7 MB/s\u001b[0m eta \u001b[36m0:00:00\u001b[0m\n",
            "\u001b[?25hRequirement already satisfied: numpy==1.23.5 in /usr/local/lib/python3.10/dist-packages (from -r requirements.txt (line 3)) (1.23.5)\n",
            "Requirement already satisfied: pandas==1.5.3 in /usr/local/lib/python3.10/dist-packages (from -r requirements.txt (line 4)) (1.5.3)\n",
            "Requirement already satisfied: pandas-datareader==0.10.0 in /usr/local/lib/python3.10/dist-packages (from -r requirements.txt (line 5)) (0.10.0)\n",
            "Collecting pandas-gbq==0.17.9 (from -r requirements.txt (line 6))\n",
            "  Downloading pandas_gbq-0.17.9-py2.py3-none-any.whl (25 kB)\n",
            "Requirement already satisfied: pandas-stubs==1.5.3.230304 in /usr/local/lib/python3.10/dist-packages (from -r requirements.txt (line 7)) (1.5.3.230304)\n",
            "Requirement already satisfied: scikit-learn==1.2.2 in /usr/local/lib/python3.10/dist-packages (from -r requirements.txt (line 8)) (1.2.2)\n",
            "Requirement already satisfied: sklearn-pandas==2.2.0 in /usr/local/lib/python3.10/dist-packages (from -r requirements.txt (line 9)) (2.2.0)\n",
            "Requirement already satisfied: torchdata==0.7.0 in /usr/local/lib/python3.10/dist-packages (from -r requirements.txt (line 12)) (0.7.0)\n",
            "Requirement already satisfied: torchsummary==1.5.1 in /usr/local/lib/python3.10/dist-packages (from -r requirements.txt (line 13)) (1.5.1)\n",
            "Requirement already satisfied: torchtext==0.16.0 in /usr/local/lib/python3.10/dist-packages (from -r requirements.txt (line 14)) (0.16.0)\n",
            "Requirement already satisfied: transformers==4.35.2 in /usr/local/lib/python3.10/dist-packages (from -r requirements.txt (line 16)) (4.35.2)\n",
            "Requirement already satisfied: fasttext==0.9.2 in /usr/local/lib/python3.10/dist-packages (from -r requirements.txt (line 17)) (0.9.2)\n",
            "Requirement already satisfied: fiona>=1.8.19 in /usr/local/lib/python3.10/dist-packages (from geopandas==0.13.2->-r requirements.txt (line 1)) (1.9.5)\n",
            "Requirement already satisfied: packaging in /usr/local/lib/python3.10/dist-packages (from geopandas==0.13.2->-r requirements.txt (line 1)) (23.2)\n",
            "Requirement already satisfied: pyproj>=3.0.1 in /usr/local/lib/python3.10/dist-packages (from geopandas==0.13.2->-r requirements.txt (line 1)) (3.6.1)\n",
            "Requirement already satisfied: shapely>=1.7.1 in /usr/local/lib/python3.10/dist-packages (from geopandas==0.13.2->-r requirements.txt (line 1)) (2.0.2)\n",
            "Requirement already satisfied: requests>=2.22.0 in /usr/local/lib/python3.10/dist-packages (from nlpaug==1.1.11->-r requirements.txt (line 2)) (2.31.0)\n",
            "Requirement already satisfied: gdown>=4.0.0 in /usr/local/lib/python3.10/dist-packages (from nlpaug==1.1.11->-r requirements.txt (line 2)) (4.7.3)\n",
            "Requirement already satisfied: python-dateutil>=2.8.1 in /usr/local/lib/python3.10/dist-packages (from pandas==1.5.3->-r requirements.txt (line 4)) (2.8.2)\n",
            "Requirement already satisfied: pytz>=2020.1 in /usr/local/lib/python3.10/dist-packages (from pandas==1.5.3->-r requirements.txt (line 4)) (2023.4)\n",
            "Requirement already satisfied: lxml in /usr/local/lib/python3.10/dist-packages (from pandas-datareader==0.10.0->-r requirements.txt (line 5)) (4.9.4)\n",
            "Requirement already satisfied: setuptools in /usr/local/lib/python3.10/dist-packages (from pandas-gbq==0.17.9->-r requirements.txt (line 6)) (67.7.2)\n",
            "Requirement already satisfied: db-dtypes<2.0.0,>=0.3.1 in /usr/local/lib/python3.10/dist-packages (from pandas-gbq==0.17.9->-r requirements.txt (line 6)) (1.2.0)\n",
            "Collecting pyarrow<10.0dev,>=3.0.0 (from pandas-gbq==0.17.9->-r requirements.txt (line 6))\n",
            "  Downloading pyarrow-9.0.0-cp310-cp310-manylinux_2_17_x86_64.manylinux2014_x86_64.whl (35.3 MB)\n",
            "\u001b[2K     \u001b[90m━━━━━━━━━━━━━━━━━━━━━━━━━━━━━━━━━━━━━━━━\u001b[0m \u001b[32m35.3/35.3 MB\u001b[0m \u001b[31m42.6 MB/s\u001b[0m eta \u001b[36m0:00:00\u001b[0m\n",
            "\u001b[?25hRequirement already satisfied: pydata-google-auth in /usr/local/lib/python3.10/dist-packages (from pandas-gbq==0.17.9->-r requirements.txt (line 6)) (1.8.2)\n",
            "Requirement already satisfied: google-api-core!=2.0.*,!=2.1.*,!=2.2.*,!=2.3.0,<3.0.0dev,>=1.31.5 in /usr/local/lib/python3.10/dist-packages (from pandas-gbq==0.17.9->-r requirements.txt (line 6)) (2.11.1)\n",
            "Requirement already satisfied: google-auth>=1.25.0 in /usr/local/lib/python3.10/dist-packages (from pandas-gbq==0.17.9->-r requirements.txt (line 6)) (2.17.3)\n",
            "Requirement already satisfied: google-auth-oauthlib>=0.0.1 in /usr/local/lib/python3.10/dist-packages (from pandas-gbq==0.17.9->-r requirements.txt (line 6)) (1.2.0)\n",
            "Requirement already satisfied: google-cloud-bigquery!=2.4.*,<4.0.0dev,>=1.27.2 in /usr/local/lib/python3.10/dist-packages (from pandas-gbq==0.17.9->-r requirements.txt (line 6)) (3.12.0)\n",
            "Requirement already satisfied: google-cloud-bigquery-storage<3.0.0dev,>=1.1.0 in /usr/local/lib/python3.10/dist-packages (from pandas-gbq==0.17.9->-r requirements.txt (line 6)) (2.24.0)\n",
            "Requirement already satisfied: types-pytz>=2022.1.1 in /usr/local/lib/python3.10/dist-packages (from pandas-stubs==1.5.3.230304->-r requirements.txt (line 7)) (2023.4.0.20240130)\n",
            "Requirement already satisfied: scipy>=1.3.2 in /usr/local/lib/python3.10/dist-packages (from scikit-learn==1.2.2->-r requirements.txt (line 8)) (1.11.4)\n",
            "Requirement already satisfied: joblib>=1.1.1 in /usr/local/lib/python3.10/dist-packages (from scikit-learn==1.2.2->-r requirements.txt (line 8)) (1.3.2)\n",
            "Requirement already satisfied: threadpoolctl>=2.0.0 in /usr/local/lib/python3.10/dist-packages (from scikit-learn==1.2.2->-r requirements.txt (line 8)) (3.2.0)\n",
            "Requirement already satisfied: urllib3>=1.25 in /usr/local/lib/python3.10/dist-packages (from torchdata==0.7.0->-r requirements.txt (line 12)) (2.0.7)\n",
            "Requirement already satisfied: filelock in /usr/local/lib/python3.10/dist-packages (from torch@ https://download.pytorch.org/whl/cu118/torch-2.1.0%2Bcu118-cp310-cp310-linux_x86_64.whl#sha256=a81b554184492005543ddc32e96469f9369d778dedd195d73bda9bed407d6589->-r requirements.txt (line 10)) (3.13.1)\n",
            "Requirement already satisfied: typing-extensions in /usr/local/lib/python3.10/dist-packages (from torch@ https://download.pytorch.org/whl/cu118/torch-2.1.0%2Bcu118-cp310-cp310-linux_x86_64.whl#sha256=a81b554184492005543ddc32e96469f9369d778dedd195d73bda9bed407d6589->-r requirements.txt (line 10)) (4.5.0)\n",
            "Requirement already satisfied: sympy in /usr/local/lib/python3.10/dist-packages (from torch@ https://download.pytorch.org/whl/cu118/torch-2.1.0%2Bcu118-cp310-cp310-linux_x86_64.whl#sha256=a81b554184492005543ddc32e96469f9369d778dedd195d73bda9bed407d6589->-r requirements.txt (line 10)) (1.12)\n",
            "Requirement already satisfied: networkx in /usr/local/lib/python3.10/dist-packages (from torch@ https://download.pytorch.org/whl/cu118/torch-2.1.0%2Bcu118-cp310-cp310-linux_x86_64.whl#sha256=a81b554184492005543ddc32e96469f9369d778dedd195d73bda9bed407d6589->-r requirements.txt (line 10)) (3.2.1)\n",
            "Requirement already satisfied: jinja2 in /usr/local/lib/python3.10/dist-packages (from torch@ https://download.pytorch.org/whl/cu118/torch-2.1.0%2Bcu118-cp310-cp310-linux_x86_64.whl#sha256=a81b554184492005543ddc32e96469f9369d778dedd195d73bda9bed407d6589->-r requirements.txt (line 10)) (3.1.3)\n",
            "Requirement already satisfied: fsspec in /usr/local/lib/python3.10/dist-packages (from torch@ https://download.pytorch.org/whl/cu118/torch-2.1.0%2Bcu118-cp310-cp310-linux_x86_64.whl#sha256=a81b554184492005543ddc32e96469f9369d778dedd195d73bda9bed407d6589->-r requirements.txt (line 10)) (2023.6.0)\n",
            "Requirement already satisfied: triton==2.1.0 in /usr/local/lib/python3.10/dist-packages (from torch@ https://download.pytorch.org/whl/cu118/torch-2.1.0%2Bcu118-cp310-cp310-linux_x86_64.whl#sha256=a81b554184492005543ddc32e96469f9369d778dedd195d73bda9bed407d6589->-r requirements.txt (line 10)) (2.1.0)\n",
            "Requirement already satisfied: tqdm in /usr/local/lib/python3.10/dist-packages (from torchtext==0.16.0->-r requirements.txt (line 14)) (4.66.1)\n",
            "Requirement already satisfied: huggingface-hub<1.0,>=0.16.4 in /usr/local/lib/python3.10/dist-packages (from transformers==4.35.2->-r requirements.txt (line 16)) (0.20.3)\n",
            "Requirement already satisfied: pyyaml>=5.1 in /usr/local/lib/python3.10/dist-packages (from transformers==4.35.2->-r requirements.txt (line 16)) (6.0.1)\n",
            "Requirement already satisfied: regex!=2019.12.17 in /usr/local/lib/python3.10/dist-packages (from transformers==4.35.2->-r requirements.txt (line 16)) (2023.12.25)\n",
            "Requirement already satisfied: tokenizers<0.19,>=0.14 in /usr/local/lib/python3.10/dist-packages (from transformers==4.35.2->-r requirements.txt (line 16)) (0.15.1)\n",
            "Requirement already satisfied: safetensors>=0.3.1 in /usr/local/lib/python3.10/dist-packages (from transformers==4.35.2->-r requirements.txt (line 16)) (0.4.2)\n",
            "Requirement already satisfied: pybind11>=2.2 in /usr/local/lib/python3.10/dist-packages (from fasttext==0.9.2->-r requirements.txt (line 17)) (2.11.1)\n",
            "Requirement already satisfied: pillow!=8.3.*,>=5.3.0 in /usr/local/lib/python3.10/dist-packages (from torchvision@ https://download.pytorch.org/whl/cu118/torchvision-0.16.0%2Bcu118-cp310-cp310-linux_x86_64.whl#sha256=033712f65d45afe806676c4129dfe601ad1321d9e092df62b15847c02d4061dc->-r requirements.txt (line 15)) (9.4.0)\n",
            "Requirement already satisfied: attrs>=19.2.0 in /usr/local/lib/python3.10/dist-packages (from fiona>=1.8.19->geopandas==0.13.2->-r requirements.txt (line 1)) (23.2.0)\n",
            "Requirement already satisfied: certifi in /usr/local/lib/python3.10/dist-packages (from fiona>=1.8.19->geopandas==0.13.2->-r requirements.txt (line 1)) (2023.11.17)\n",
            "Requirement already satisfied: click~=8.0 in /usr/local/lib/python3.10/dist-packages (from fiona>=1.8.19->geopandas==0.13.2->-r requirements.txt (line 1)) (8.1.7)\n",
            "Requirement already satisfied: click-plugins>=1.0 in /usr/local/lib/python3.10/dist-packages (from fiona>=1.8.19->geopandas==0.13.2->-r requirements.txt (line 1)) (1.1.1)\n",
            "Requirement already satisfied: cligj>=0.5 in /usr/local/lib/python3.10/dist-packages (from fiona>=1.8.19->geopandas==0.13.2->-r requirements.txt (line 1)) (0.7.2)\n",
            "Requirement already satisfied: six in /usr/local/lib/python3.10/dist-packages (from fiona>=1.8.19->geopandas==0.13.2->-r requirements.txt (line 1)) (1.16.0)\n",
            "Requirement already satisfied: beautifulsoup4 in /usr/local/lib/python3.10/dist-packages (from gdown>=4.0.0->nlpaug==1.1.11->-r requirements.txt (line 2)) (4.12.3)\n",
            "Requirement already satisfied: googleapis-common-protos<2.0.dev0,>=1.56.2 in /usr/local/lib/python3.10/dist-packages (from google-api-core!=2.0.*,!=2.1.*,!=2.2.*,!=2.3.0,<3.0.0dev,>=1.31.5->pandas-gbq==0.17.9->-r requirements.txt (line 6)) (1.62.0)\n",
            "Requirement already satisfied: protobuf!=3.20.0,!=3.20.1,!=4.21.0,!=4.21.1,!=4.21.2,!=4.21.3,!=4.21.4,!=4.21.5,<5.0.0.dev0,>=3.19.5 in /usr/local/lib/python3.10/dist-packages (from google-api-core!=2.0.*,!=2.1.*,!=2.2.*,!=2.3.0,<3.0.0dev,>=1.31.5->pandas-gbq==0.17.9->-r requirements.txt (line 6)) (3.20.3)\n",
            "Requirement already satisfied: cachetools<6.0,>=2.0.0 in /usr/local/lib/python3.10/dist-packages (from google-auth>=1.25.0->pandas-gbq==0.17.9->-r requirements.txt (line 6)) (5.3.2)\n",
            "Requirement already satisfied: pyasn1-modules>=0.2.1 in /usr/local/lib/python3.10/dist-packages (from google-auth>=1.25.0->pandas-gbq==0.17.9->-r requirements.txt (line 6)) (0.3.0)\n",
            "Requirement already satisfied: rsa<5,>=3.1.4 in /usr/local/lib/python3.10/dist-packages (from google-auth>=1.25.0->pandas-gbq==0.17.9->-r requirements.txt (line 6)) (4.9)\n",
            "Requirement already satisfied: requests-oauthlib>=0.7.0 in /usr/local/lib/python3.10/dist-packages (from google-auth-oauthlib>=0.0.1->pandas-gbq==0.17.9->-r requirements.txt (line 6)) (1.3.1)\n",
            "Requirement already satisfied: grpcio<2.0dev,>=1.47.0 in /usr/local/lib/python3.10/dist-packages (from google-cloud-bigquery!=2.4.*,<4.0.0dev,>=1.27.2->pandas-gbq==0.17.9->-r requirements.txt (line 6)) (1.60.0)\n",
            "Requirement already satisfied: proto-plus<2.0.0dev,>=1.15.0 in /usr/local/lib/python3.10/dist-packages (from google-cloud-bigquery!=2.4.*,<4.0.0dev,>=1.27.2->pandas-gbq==0.17.9->-r requirements.txt (line 6)) (1.23.0)\n",
            "Requirement already satisfied: google-cloud-core<3.0.0dev,>=1.6.0 in /usr/local/lib/python3.10/dist-packages (from google-cloud-bigquery!=2.4.*,<4.0.0dev,>=1.27.2->pandas-gbq==0.17.9->-r requirements.txt (line 6)) (2.3.3)\n",
            "Requirement already satisfied: google-resumable-media<3.0dev,>=0.6.0 in /usr/local/lib/python3.10/dist-packages (from google-cloud-bigquery!=2.4.*,<4.0.0dev,>=1.27.2->pandas-gbq==0.17.9->-r requirements.txt (line 6)) (2.7.0)\n",
            "Requirement already satisfied: charset-normalizer<4,>=2 in /usr/local/lib/python3.10/dist-packages (from requests>=2.22.0->nlpaug==1.1.11->-r requirements.txt (line 2)) (3.3.2)\n",
            "Requirement already satisfied: idna<4,>=2.5 in /usr/local/lib/python3.10/dist-packages (from requests>=2.22.0->nlpaug==1.1.11->-r requirements.txt (line 2)) (3.6)\n",
            "Requirement already satisfied: MarkupSafe>=2.0 in /usr/local/lib/python3.10/dist-packages (from jinja2->torch@ https://download.pytorch.org/whl/cu118/torch-2.1.0%2Bcu118-cp310-cp310-linux_x86_64.whl#sha256=a81b554184492005543ddc32e96469f9369d778dedd195d73bda9bed407d6589->-r requirements.txt (line 10)) (2.1.4)\n",
            "Requirement already satisfied: mpmath>=0.19 in /usr/local/lib/python3.10/dist-packages (from sympy->torch@ https://download.pytorch.org/whl/cu118/torch-2.1.0%2Bcu118-cp310-cp310-linux_x86_64.whl#sha256=a81b554184492005543ddc32e96469f9369d778dedd195d73bda9bed407d6589->-r requirements.txt (line 10)) (1.3.0)\n",
            "Requirement already satisfied: grpcio-status<2.0.dev0,>=1.33.2 in /usr/local/lib/python3.10/dist-packages (from google-api-core!=2.0.*,!=2.1.*,!=2.2.*,!=2.3.0,<3.0.0dev,>=1.31.5->pandas-gbq==0.17.9->-r requirements.txt (line 6)) (1.48.2)\n",
            "Requirement already satisfied: google-crc32c<2.0dev,>=1.0 in /usr/local/lib/python3.10/dist-packages (from google-resumable-media<3.0dev,>=0.6.0->google-cloud-bigquery!=2.4.*,<4.0.0dev,>=1.27.2->pandas-gbq==0.17.9->-r requirements.txt (line 6)) (1.5.0)\n",
            "Requirement already satisfied: pyasn1<0.6.0,>=0.4.6 in /usr/local/lib/python3.10/dist-packages (from pyasn1-modules>=0.2.1->google-auth>=1.25.0->pandas-gbq==0.17.9->-r requirements.txt (line 6)) (0.5.1)\n",
            "Requirement already satisfied: oauthlib>=3.0.0 in /usr/local/lib/python3.10/dist-packages (from requests-oauthlib>=0.7.0->google-auth-oauthlib>=0.0.1->pandas-gbq==0.17.9->-r requirements.txt (line 6)) (3.2.2)\n",
            "Requirement already satisfied: soupsieve>1.2 in /usr/local/lib/python3.10/dist-packages (from beautifulsoup4->gdown>=4.0.0->nlpaug==1.1.11->-r requirements.txt (line 2)) (2.5)\n",
            "Requirement already satisfied: PySocks!=1.5.7,>=1.5.6 in /usr/local/lib/python3.10/dist-packages (from requests>=2.22.0->nlpaug==1.1.11->-r requirements.txt (line 2)) (1.7.1)\n",
            "Installing collected packages: pyarrow, torch, torchvision, torchaudio, nlpaug, pandas-gbq\n",
            "  Attempting uninstall: pyarrow\n",
            "    Found existing installation: pyarrow 10.0.1\n",
            "    Uninstalling pyarrow-10.0.1:\n",
            "      Successfully uninstalled pyarrow-10.0.1\n",
            "  Attempting uninstall: torch\n",
            "    Found existing installation: torch 2.1.0+cu121\n",
            "    Uninstalling torch-2.1.0+cu121:\n",
            "      Successfully uninstalled torch-2.1.0+cu121\n",
            "  Attempting uninstall: torchvision\n",
            "    Found existing installation: torchvision 0.16.0+cu121\n",
            "    Uninstalling torchvision-0.16.0+cu121:\n",
            "      Successfully uninstalled torchvision-0.16.0+cu121\n",
            "  Attempting uninstall: torchaudio\n",
            "    Found existing installation: torchaudio 2.1.0+cu121\n",
            "    Uninstalling torchaudio-2.1.0+cu121:\n",
            "      Successfully uninstalled torchaudio-2.1.0+cu121\n",
            "  Attempting uninstall: pandas-gbq\n",
            "    Found existing installation: pandas-gbq 0.19.2\n",
            "    Uninstalling pandas-gbq-0.19.2:\n",
            "      Successfully uninstalled pandas-gbq-0.19.2\n",
            "Successfully installed nlpaug-1.1.11 pandas-gbq-0.17.9 pyarrow-9.0.0 torch-2.1.0+cu118 torchaudio-2.1.0+cu118 torchvision-0.16.0+cu118\n"
          ]
        }
      ]
    },
    {
      "cell_type": "code",
      "execution_count": 3,
      "metadata": {
        "id": "6WBjVVMGhMCC",
        "colab": {
          "base_uri": "https://localhost:8080/"
        },
        "outputId": "e85d1931-568e-43bd-8b35-b56f5c6f6275"
      },
      "outputs": [
        {
          "output_type": "stream",
          "name": "stderr",
          "text": [
            "[nltk_data] Downloading package stopwords to /root/nltk_data...\n",
            "[nltk_data]   Package stopwords is already up-to-date!\n"
          ]
        }
      ],
      "source": [
        "from ast import literal_eval\n",
        "import json\n",
        "import re\n",
        "import gc\n",
        "import fasttext\n",
        "\n",
        "import pandas as pd\n",
        "import numpy as np\n",
        "import matplotlib.pyplot as plt\n",
        "import seaborn as sns\n",
        "import unicodedata\n",
        "\n",
        "import nltk\n",
        "from nltk.corpus import stopwords\n",
        "nltk.download('stopwords')\n",
        "\n",
        "from scipy.sparse import coo_matrix, hstack\n",
        "\n",
        "from sklearn.feature_extraction.text import TfidfVectorizer, CountVectorizer\n",
        "from sklearn.dummy import DummyClassifier\n",
        "from sklearn.decomposition import PCA\n",
        "from sklearn.linear_model import LogisticRegression\n",
        "from sklearn import metrics\n",
        "from sklearn.metrics import f1_score, multilabel_confusion_matrix, classification_report, confusion_matrix\n",
        "from sklearn.model_selection import cross_val_score, StratifiedKFold, train_test_split\n",
        "\n",
        "import torch\n",
        "from torch import nn\n",
        "from torch.optim import Adam\n",
        "from torch.optim.lr_scheduler import ExponentialLR, ReduceLROnPlateau\n",
        "from torch.utils.data import TensorDataset, DataLoader, RandomSampler, SequentialSampler, WeightedRandomSampler\n",
        "from torch.nn import functional as F\n",
        "from tqdm.notebook import tqdm\n",
        "from IPython.display import clear_output\n",
        "\n",
        "from transformers import (\n",
        "    BertTokenizer, BertForSequenceClassification, AdamW,\n",
        "    get_linear_schedule_with_warmup, DistilBertTokenizer,\n",
        "    AutoModelForSequenceClassification, DistilBertForSequenceClassification,\n",
        "    RobertaTokenizer, RobertaForSequenceClassification, AutoModel,\n",
        "    AutoTokenizer, Trainer, TrainingArguments\n",
        ")\n",
        "\n"
      ]
    },
    {
      "cell_type": "code",
      "execution_count": 4,
      "metadata": {
        "id": "gQ2dpauTHbsY"
      },
      "outputs": [],
      "source": [
        "df_topics = pd.read_excel('yt_topics_10_500.xlsx')"
      ]
    },
    {
      "cell_type": "code",
      "source": [
        "df_topics['topic'].value_counts().head(50)"
      ],
      "metadata": {
        "colab": {
          "base_uri": "https://localhost:8080/"
        },
        "id": "tkrGdRdtMtfs",
        "outputId": "99997abb-1268-4f93-cf62-23e597592653"
      },
      "execution_count": 5,
      "outputs": [
        {
          "output_type": "execute_result",
          "data": {
            "text/plain": [
              "?                                 500\n",
              "Эзотерика                         494\n",
              "Увлечение и хобби                 483\n",
              "Авто/Мото                         473\n",
              "Спорт                             471\n",
              "Музыка                            471\n",
              "Лайфстайл                         456\n",
              "Юмор                              439\n",
              "Кино                              431\n",
              "Развлечения                       415\n",
              "Игры                              396\n",
              "Игры, Развлечения                  94\n",
              "Развлечения, Юмор                  45\n",
              "Кино, Развлечения                  30\n",
              "Юмор, Развлечения                  28\n",
              "Кино, Юмор                         21\n",
              "Лайфстайл, Увлечение и хобби       17\n",
              "Авто/Мото, Увлечение и хобби       14\n",
              "Развлечения, Кино                  14\n",
              "Музыка, Увлечение и хобби          13\n",
              "Спорт, Развлечения                 11\n",
              "Развлечения, Игры                  11\n",
              "Юмор, Игры                         11\n",
              "Спорт, Увлечение и хобби            9\n",
              "Кино, Игры                          9\n",
              "Юмор, Кино                          9\n",
              "Музыка, Развлечения                 9\n",
              "Лайфстайл, Развлечения              8\n",
              "Лайфстайл, Юмор                     7\n",
              "Игры, Юмор                          7\n",
              "Авто/Мото, Развлечения              6\n",
              "Увлечение и хобби, Развлечения      6\n",
              "Кино, Музыка                        5\n",
              "Развлечения, Увлечение и хобби      5\n",
              "Музыка, Кино                        5\n",
              "Спорт, Юмор                         4\n",
              "Лайфстайл, Игры                     4\n",
              "Юмор, Авто/Мото                     4\n",
              "Юмор, Музыка                        4\n",
              "Увлечение и хобби, Спорт            4\n",
              "Эзотерика, Развлечения              4\n",
              "Развлечения, Музыка                 4\n",
              "Спорт, Лайфстайл                    3\n",
              "Лайфстайл, Авто/Мото                3\n",
              "Увлечение и хобби, Лайфстайл        3\n",
              "Юмор, Лайфстайл                     3\n",
              "Авто/Мото, Спорт                    3\n",
              "Лайфстайл, Спорт                    2\n",
              "Лайфстайл, Музыка                   2\n",
              "Развлечения, Лайфстайл              2\n",
              "Name: topic, dtype: int64"
            ]
          },
          "metadata": {},
          "execution_count": 5
        }
      ]
    },
    {
      "cell_type": "markdown",
      "source": [
        "Как видим, есть экземпляры с одним и несколькими классами.  \n",
        "Если оставить как есть, то классы сильно несбалансированы.  \n",
        "Тогда можно их присоединить к тому классу, который идет в списке первым.  \n",
        "Либо удалить, чтобы не добавлять в класс смешанные экземпляры."
      ],
      "metadata": {
        "id": "xDWQgD650YLM"
      }
    },
    {
      "cell_type": "code",
      "execution_count": 6,
      "metadata": {
        "id": "Lvihn0oDIAcL"
      },
      "outputs": [],
      "source": [
        "df_topics['topic_one'] = df_topics['topic'].str.split(',').apply(lambda x: x[0])"
      ]
    },
    {
      "cell_type": "code",
      "source": [
        "#df_topics = df_topics[df_topics['topic'].str.split(',').apply(len) == 1]"
      ],
      "metadata": {
        "id": "1ztzkN3cqdK6"
      },
      "execution_count": 7,
      "outputs": []
    },
    {
      "cell_type": "code",
      "execution_count": 8,
      "metadata": {
        "colab": {
          "base_uri": "https://localhost:8080/"
        },
        "id": "xC01kQWwIY1O",
        "outputId": "78fa8010-7c7d-4222-e91c-663ea6d78a8a"
      },
      "outputs": [
        {
          "output_type": "execute_result",
          "data": {
            "text/plain": [
              "Развлечения          500\n",
              "Юмор                 500\n",
              "Кино                 500\n",
              "Игры                 500\n",
              "Авто/Мото            500\n",
              "Музыка               500\n",
              "Увлечение и хобби    500\n",
              "Лайфстайл            500\n",
              "Эзотерика            500\n",
              "Спорт                500\n",
              "?                    500\n",
              "Name: topic_one, dtype: int64"
            ]
          },
          "metadata": {},
          "execution_count": 8
        }
      ],
      "source": [
        "df_topics['topic_one'].value_counts().head(50)"
      ]
    },
    {
      "cell_type": "markdown",
      "source": [
        "Как видим классы *сбалансированы*, сильных перекосов нет.\n",
        "\n",
        "Т.к. по условию задачи метрика классификации не дана, то выберем сами.  \n",
        "В качестве метрики далее будем брать **F1 score**. Можно macro или micro, на сбалансированных данных разницы нет"
      ],
      "metadata": {
        "id": "Hq8O_m5p7YCQ"
      }
    },
    {
      "cell_type": "code",
      "execution_count": 9,
      "metadata": {
        "id": "ctti6BJLHxcT"
      },
      "outputs": [],
      "source": [
        "df = pd.read_csv('channals_1000.csv')\n",
        "for file in ['channals_2000.csv', 'channals_3000.csv', 'channals_4000.csv', 'channals_5000.csv', 'channals_5499.csv']:\n",
        "  df = pd.concat([df, pd.read_csv(file)])"
      ]
    },
    {
      "cell_type": "code",
      "execution_count": 10,
      "metadata": {
        "id": "KRXEXqumw9h_"
      },
      "outputs": [],
      "source": [
        "\n",
        "df['video_titles'] = df['video_titles'].apply(lambda x: literal_eval(x) if pd.notna(x) else None)\n",
        "df['video_descriptions'] = df['video_descriptions'].apply(lambda x: literal_eval(x) if pd.notna(x) else None)\n",
        "df['video_ids'] = df['video_ids'].apply(lambda x: literal_eval(x) if pd.notna(x) else None)\n",
        "df['video_published_time'] = df['video_published_time'].apply(lambda x: literal_eval(x) if pd.notna(x) else None)"
      ]
    },
    {
      "cell_type": "code",
      "source": [
        "df.head()"
      ],
      "metadata": {
        "colab": {
          "base_uri": "https://localhost:8080/",
          "height": 466
        },
        "id": "oKlcP7UTNRgc",
        "outputId": "a2de9d43-eb4d-48a9-c7a1-5ee2e220bcb3"
      },
      "execution_count": 11,
      "outputs": [
        {
          "output_type": "execute_result",
          "data": {
            "text/plain": [
              "   index                                channel_description  \\\n",
              "0    0.0  Канал называется А4, почему так? Тебе нужно за...   \n",
              "1    1.0  Здесь можно поржать, отложить кирпичей, снять ...   \n",
              "2    2.0                     Всем спасибо за подписку❤️\\n\\n   \n",
              "3    3.0  Я не знаю, зачем создал этот канал, но он врод...   \n",
              "4    4.0  ❌Самый молодой режиссёр страны❌\\nСнимаю фильмы...   \n",
              "\n",
              "                                        video_titles  \\\n",
              "0  [24 Часа в ИГЛУ ! * ВЫЖИВАНИЕ 1 ЧАС ВЛОГ *, Эк...   \n",
              "1  [ОГРОМНАЯ ЗМЕЮКА ► Resident Evil HD Remaster #...   \n",
              "2  [ИДЕАЛЬНАЯ ШКОЛА (смешное видео, приколы, юмор...   \n",
              "3  [Самый Везучий Выиграет 200.000! (Горилла, Кор...   \n",
              "4  [❌Дети совсем с ума сошли со «Слова пацана»  #...   \n",
              "\n",
              "                                  video_descriptions  \\\n",
              "0  [Официальный мерч А4 : https://a4shop.ru\\n\\nМы...   \n",
              "1  [Прохождение Resident Evil HD Remaster. Всем п...   \n",
              "2  [, , , , , , , , , , , , , , , , , , , , , , ,...   \n",
              "3  [Горы кэшбэка с Tinkoff Premium — https://l.ti...   \n",
              "4  [, , , СЕРИАЛ УЖЕ ВЫШЕЛ. СМОТРИТЕ ЕГО ЗДЕСЬ: h...   \n",
              "\n",
              "                                           video_ids  \\\n",
              "0  [OH2s8vQAWug, zzc4oXazwrg, HPcp0TOhZRo, yLftCk...   \n",
              "1  [A98M-aUIgXI, vGDjLQDHPxw, CXiCyvBYtzA, Mx6_vS...   \n",
              "2  [e6vFQn0Oegs, Sb5iouUNKw4, -FnQETxkvNs, pF9zuj...   \n",
              "3  [PnLS-kbwbog, ygkDbP3wz9U, X7a7VNC-ZmM, rbKpcX...   \n",
              "4  [HJVY8QscD7E, iaZaxLWQMek, KnKOsdZxYs4, eUUMNx...   \n",
              "\n",
              "                                video_published_time  \n",
              "0  [2024-01-31T12:01:30Z, 2024-01-29T12:01:02Z, 2...  \n",
              "1  [2024-01-30T15:00:07Z, 2024-01-29T15:01:00Z, 2...  \n",
              "2  [2024-01-30T13:00:36Z, 2024-01-28T13:00:24Z, 2...  \n",
              "3  [2024-01-31T17:39:26Z, 2024-01-13T15:09:39Z, 2...  \n",
              "4  [2023-12-27T14:39:30Z, 2023-12-20T16:12:07Z, 2...  "
            ],
            "text/html": [
              "\n",
              "  <div id=\"df-c99825af-a052-4644-bd62-b771601ea5c1\" class=\"colab-df-container\">\n",
              "    <div>\n",
              "<style scoped>\n",
              "    .dataframe tbody tr th:only-of-type {\n",
              "        vertical-align: middle;\n",
              "    }\n",
              "\n",
              "    .dataframe tbody tr th {\n",
              "        vertical-align: top;\n",
              "    }\n",
              "\n",
              "    .dataframe thead th {\n",
              "        text-align: right;\n",
              "    }\n",
              "</style>\n",
              "<table border=\"1\" class=\"dataframe\">\n",
              "  <thead>\n",
              "    <tr style=\"text-align: right;\">\n",
              "      <th></th>\n",
              "      <th>index</th>\n",
              "      <th>channel_description</th>\n",
              "      <th>video_titles</th>\n",
              "      <th>video_descriptions</th>\n",
              "      <th>video_ids</th>\n",
              "      <th>video_published_time</th>\n",
              "    </tr>\n",
              "  </thead>\n",
              "  <tbody>\n",
              "    <tr>\n",
              "      <th>0</th>\n",
              "      <td>0.0</td>\n",
              "      <td>Канал называется А4, почему так? Тебе нужно за...</td>\n",
              "      <td>[24 Часа в ИГЛУ ! * ВЫЖИВАНИЕ 1 ЧАС ВЛОГ *, Эк...</td>\n",
              "      <td>[Официальный мерч А4 : https://a4shop.ru\\n\\nМы...</td>\n",
              "      <td>[OH2s8vQAWug, zzc4oXazwrg, HPcp0TOhZRo, yLftCk...</td>\n",
              "      <td>[2024-01-31T12:01:30Z, 2024-01-29T12:01:02Z, 2...</td>\n",
              "    </tr>\n",
              "    <tr>\n",
              "      <th>1</th>\n",
              "      <td>1.0</td>\n",
              "      <td>Здесь можно поржать, отложить кирпичей, снять ...</td>\n",
              "      <td>[ОГРОМНАЯ ЗМЕЮКА ► Resident Evil HD Remaster #...</td>\n",
              "      <td>[Прохождение Resident Evil HD Remaster. Всем п...</td>\n",
              "      <td>[A98M-aUIgXI, vGDjLQDHPxw, CXiCyvBYtzA, Mx6_vS...</td>\n",
              "      <td>[2024-01-30T15:00:07Z, 2024-01-29T15:01:00Z, 2...</td>\n",
              "    </tr>\n",
              "    <tr>\n",
              "      <th>2</th>\n",
              "      <td>2.0</td>\n",
              "      <td>Всем спасибо за подписку❤️\\n\\n</td>\n",
              "      <td>[ИДЕАЛЬНАЯ ШКОЛА (смешное видео, приколы, юмор...</td>\n",
              "      <td>[, , , , , , , , , , , , , , , , , , , , , , ,...</td>\n",
              "      <td>[e6vFQn0Oegs, Sb5iouUNKw4, -FnQETxkvNs, pF9zuj...</td>\n",
              "      <td>[2024-01-30T13:00:36Z, 2024-01-28T13:00:24Z, 2...</td>\n",
              "    </tr>\n",
              "    <tr>\n",
              "      <th>3</th>\n",
              "      <td>3.0</td>\n",
              "      <td>Я не знаю, зачем создал этот канал, но он врод...</td>\n",
              "      <td>[Самый Везучий Выиграет 200.000! (Горилла, Кор...</td>\n",
              "      <td>[Горы кэшбэка с Tinkoff Premium — https://l.ti...</td>\n",
              "      <td>[PnLS-kbwbog, ygkDbP3wz9U, X7a7VNC-ZmM, rbKpcX...</td>\n",
              "      <td>[2024-01-31T17:39:26Z, 2024-01-13T15:09:39Z, 2...</td>\n",
              "    </tr>\n",
              "    <tr>\n",
              "      <th>4</th>\n",
              "      <td>4.0</td>\n",
              "      <td>❌Самый молодой режиссёр страны❌\\nСнимаю фильмы...</td>\n",
              "      <td>[❌Дети совсем с ума сошли со «Слова пацана»  #...</td>\n",
              "      <td>[, , , СЕРИАЛ УЖЕ ВЫШЕЛ. СМОТРИТЕ ЕГО ЗДЕСЬ: h...</td>\n",
              "      <td>[HJVY8QscD7E, iaZaxLWQMek, KnKOsdZxYs4, eUUMNx...</td>\n",
              "      <td>[2023-12-27T14:39:30Z, 2023-12-20T16:12:07Z, 2...</td>\n",
              "    </tr>\n",
              "  </tbody>\n",
              "</table>\n",
              "</div>\n",
              "    <div class=\"colab-df-buttons\">\n",
              "\n",
              "  <div class=\"colab-df-container\">\n",
              "    <button class=\"colab-df-convert\" onclick=\"convertToInteractive('df-c99825af-a052-4644-bd62-b771601ea5c1')\"\n",
              "            title=\"Convert this dataframe to an interactive table.\"\n",
              "            style=\"display:none;\">\n",
              "\n",
              "  <svg xmlns=\"http://www.w3.org/2000/svg\" height=\"24px\" viewBox=\"0 -960 960 960\">\n",
              "    <path d=\"M120-120v-720h720v720H120Zm60-500h600v-160H180v160Zm220 220h160v-160H400v160Zm0 220h160v-160H400v160ZM180-400h160v-160H180v160Zm440 0h160v-160H620v160ZM180-180h160v-160H180v160Zm440 0h160v-160H620v160Z\"/>\n",
              "  </svg>\n",
              "    </button>\n",
              "\n",
              "  <style>\n",
              "    .colab-df-container {\n",
              "      display:flex;\n",
              "      gap: 12px;\n",
              "    }\n",
              "\n",
              "    .colab-df-convert {\n",
              "      background-color: #E8F0FE;\n",
              "      border: none;\n",
              "      border-radius: 50%;\n",
              "      cursor: pointer;\n",
              "      display: none;\n",
              "      fill: #1967D2;\n",
              "      height: 32px;\n",
              "      padding: 0 0 0 0;\n",
              "      width: 32px;\n",
              "    }\n",
              "\n",
              "    .colab-df-convert:hover {\n",
              "      background-color: #E2EBFA;\n",
              "      box-shadow: 0px 1px 2px rgba(60, 64, 67, 0.3), 0px 1px 3px 1px rgba(60, 64, 67, 0.15);\n",
              "      fill: #174EA6;\n",
              "    }\n",
              "\n",
              "    .colab-df-buttons div {\n",
              "      margin-bottom: 4px;\n",
              "    }\n",
              "\n",
              "    [theme=dark] .colab-df-convert {\n",
              "      background-color: #3B4455;\n",
              "      fill: #D2E3FC;\n",
              "    }\n",
              "\n",
              "    [theme=dark] .colab-df-convert:hover {\n",
              "      background-color: #434B5C;\n",
              "      box-shadow: 0px 1px 3px 1px rgba(0, 0, 0, 0.15);\n",
              "      filter: drop-shadow(0px 1px 2px rgba(0, 0, 0, 0.3));\n",
              "      fill: #FFFFFF;\n",
              "    }\n",
              "  </style>\n",
              "\n",
              "    <script>\n",
              "      const buttonEl =\n",
              "        document.querySelector('#df-c99825af-a052-4644-bd62-b771601ea5c1 button.colab-df-convert');\n",
              "      buttonEl.style.display =\n",
              "        google.colab.kernel.accessAllowed ? 'block' : 'none';\n",
              "\n",
              "      async function convertToInteractive(key) {\n",
              "        const element = document.querySelector('#df-c99825af-a052-4644-bd62-b771601ea5c1');\n",
              "        const dataTable =\n",
              "          await google.colab.kernel.invokeFunction('convertToInteractive',\n",
              "                                                    [key], {});\n",
              "        if (!dataTable) return;\n",
              "\n",
              "        const docLinkHtml = 'Like what you see? Visit the ' +\n",
              "          '<a target=\"_blank\" href=https://colab.research.google.com/notebooks/data_table.ipynb>data table notebook</a>'\n",
              "          + ' to learn more about interactive tables.';\n",
              "        element.innerHTML = '';\n",
              "        dataTable['output_type'] = 'display_data';\n",
              "        await google.colab.output.renderOutput(dataTable, element);\n",
              "        const docLink = document.createElement('div');\n",
              "        docLink.innerHTML = docLinkHtml;\n",
              "        element.appendChild(docLink);\n",
              "      }\n",
              "    </script>\n",
              "  </div>\n",
              "\n",
              "\n",
              "<div id=\"df-cb127088-7ceb-4453-9782-770b6b4535c0\">\n",
              "  <button class=\"colab-df-quickchart\" onclick=\"quickchart('df-cb127088-7ceb-4453-9782-770b6b4535c0')\"\n",
              "            title=\"Suggest charts\"\n",
              "            style=\"display:none;\">\n",
              "\n",
              "<svg xmlns=\"http://www.w3.org/2000/svg\" height=\"24px\"viewBox=\"0 0 24 24\"\n",
              "     width=\"24px\">\n",
              "    <g>\n",
              "        <path d=\"M19 3H5c-1.1 0-2 .9-2 2v14c0 1.1.9 2 2 2h14c1.1 0 2-.9 2-2V5c0-1.1-.9-2-2-2zM9 17H7v-7h2v7zm4 0h-2V7h2v10zm4 0h-2v-4h2v4z\"/>\n",
              "    </g>\n",
              "</svg>\n",
              "  </button>\n",
              "\n",
              "<style>\n",
              "  .colab-df-quickchart {\n",
              "      --bg-color: #E8F0FE;\n",
              "      --fill-color: #1967D2;\n",
              "      --hover-bg-color: #E2EBFA;\n",
              "      --hover-fill-color: #174EA6;\n",
              "      --disabled-fill-color: #AAA;\n",
              "      --disabled-bg-color: #DDD;\n",
              "  }\n",
              "\n",
              "  [theme=dark] .colab-df-quickchart {\n",
              "      --bg-color: #3B4455;\n",
              "      --fill-color: #D2E3FC;\n",
              "      --hover-bg-color: #434B5C;\n",
              "      --hover-fill-color: #FFFFFF;\n",
              "      --disabled-bg-color: #3B4455;\n",
              "      --disabled-fill-color: #666;\n",
              "  }\n",
              "\n",
              "  .colab-df-quickchart {\n",
              "    background-color: var(--bg-color);\n",
              "    border: none;\n",
              "    border-radius: 50%;\n",
              "    cursor: pointer;\n",
              "    display: none;\n",
              "    fill: var(--fill-color);\n",
              "    height: 32px;\n",
              "    padding: 0;\n",
              "    width: 32px;\n",
              "  }\n",
              "\n",
              "  .colab-df-quickchart:hover {\n",
              "    background-color: var(--hover-bg-color);\n",
              "    box-shadow: 0 1px 2px rgba(60, 64, 67, 0.3), 0 1px 3px 1px rgba(60, 64, 67, 0.15);\n",
              "    fill: var(--button-hover-fill-color);\n",
              "  }\n",
              "\n",
              "  .colab-df-quickchart-complete:disabled,\n",
              "  .colab-df-quickchart-complete:disabled:hover {\n",
              "    background-color: var(--disabled-bg-color);\n",
              "    fill: var(--disabled-fill-color);\n",
              "    box-shadow: none;\n",
              "  }\n",
              "\n",
              "  .colab-df-spinner {\n",
              "    border: 2px solid var(--fill-color);\n",
              "    border-color: transparent;\n",
              "    border-bottom-color: var(--fill-color);\n",
              "    animation:\n",
              "      spin 1s steps(1) infinite;\n",
              "  }\n",
              "\n",
              "  @keyframes spin {\n",
              "    0% {\n",
              "      border-color: transparent;\n",
              "      border-bottom-color: var(--fill-color);\n",
              "      border-left-color: var(--fill-color);\n",
              "    }\n",
              "    20% {\n",
              "      border-color: transparent;\n",
              "      border-left-color: var(--fill-color);\n",
              "      border-top-color: var(--fill-color);\n",
              "    }\n",
              "    30% {\n",
              "      border-color: transparent;\n",
              "      border-left-color: var(--fill-color);\n",
              "      border-top-color: var(--fill-color);\n",
              "      border-right-color: var(--fill-color);\n",
              "    }\n",
              "    40% {\n",
              "      border-color: transparent;\n",
              "      border-right-color: var(--fill-color);\n",
              "      border-top-color: var(--fill-color);\n",
              "    }\n",
              "    60% {\n",
              "      border-color: transparent;\n",
              "      border-right-color: var(--fill-color);\n",
              "    }\n",
              "    80% {\n",
              "      border-color: transparent;\n",
              "      border-right-color: var(--fill-color);\n",
              "      border-bottom-color: var(--fill-color);\n",
              "    }\n",
              "    90% {\n",
              "      border-color: transparent;\n",
              "      border-bottom-color: var(--fill-color);\n",
              "    }\n",
              "  }\n",
              "</style>\n",
              "\n",
              "  <script>\n",
              "    async function quickchart(key) {\n",
              "      const quickchartButtonEl =\n",
              "        document.querySelector('#' + key + ' button');\n",
              "      quickchartButtonEl.disabled = true;  // To prevent multiple clicks.\n",
              "      quickchartButtonEl.classList.add('colab-df-spinner');\n",
              "      try {\n",
              "        const charts = await google.colab.kernel.invokeFunction(\n",
              "            'suggestCharts', [key], {});\n",
              "      } catch (error) {\n",
              "        console.error('Error during call to suggestCharts:', error);\n",
              "      }\n",
              "      quickchartButtonEl.classList.remove('colab-df-spinner');\n",
              "      quickchartButtonEl.classList.add('colab-df-quickchart-complete');\n",
              "    }\n",
              "    (() => {\n",
              "      let quickchartButtonEl =\n",
              "        document.querySelector('#df-cb127088-7ceb-4453-9782-770b6b4535c0 button');\n",
              "      quickchartButtonEl.style.display =\n",
              "        google.colab.kernel.accessAllowed ? 'block' : 'none';\n",
              "    })();\n",
              "  </script>\n",
              "</div>\n",
              "\n",
              "    </div>\n",
              "  </div>\n"
            ]
          },
          "metadata": {},
          "execution_count": 11
        }
      ]
    },
    {
      "cell_type": "markdown",
      "source": [
        "У нас есть выгруженные данные по API для каждого канала и его 50 последних видео:  описание канала, список названий видео, список описаний к видео, список даты выхода видео."
      ],
      "metadata": {
        "id": "_27DZAsmMuF4"
      }
    },
    {
      "cell_type": "markdown",
      "source": [
        "### Исследуем выгруженные с ютюба данные"
      ],
      "metadata": {
        "id": "rznU7RwsOOvo"
      }
    },
    {
      "cell_type": "code",
      "source": [
        "df['channel_description'].str.len().hist(bins=40)"
      ],
      "metadata": {
        "colab": {
          "base_uri": "https://localhost:8080/",
          "height": 448
        },
        "id": "35E0Jw0tNWS9",
        "outputId": "55f49dd5-be1f-444a-d717-c3e8323b92b0"
      },
      "execution_count": 12,
      "outputs": [
        {
          "output_type": "execute_result",
          "data": {
            "text/plain": [
              "<Axes: >"
            ]
          },
          "metadata": {},
          "execution_count": 12
        },
        {
          "output_type": "display_data",
          "data": {
            "text/plain": [
              "<Figure size 640x480 with 1 Axes>"
            ],
            "image/png": "[encoded data removed]"
          },
          "metadata": {}
        }
      ]
    },
    {
      "cell_type": "markdown",
      "source": [
        "Видно, что большая часть описаний видео имеет малую длину (менее 100 символов), плюс большой процент описания не информативен или является ссылкой на соц сети.  \n",
        "По такис данным, сложно определять категории.\n",
        "Как далее показали попытки использовать эти данные выше 0.52 F1-macro получить не удалось."
      ],
      "metadata": {
        "id": "oM_shpSeNjtp"
      }
    },
    {
      "cell_type": "code",
      "source": [
        "df.explode('video_titles')['video_titles'].str.len().hist()"
      ],
      "metadata": {
        "colab": {
          "base_uri": "https://localhost:8080/",
          "height": 448
        },
        "id": "Erg2Ge3SNiua",
        "outputId": "c6eaf2e1-46cd-421a-af25-4dcd3db699a7"
      },
      "execution_count": 13,
      "outputs": [
        {
          "output_type": "execute_result",
          "data": {
            "text/plain": [
              "<Axes: >"
            ]
          },
          "metadata": {},
          "execution_count": 13
        },
        {
          "output_type": "display_data",
          "data": {
            "text/plain": [
              "<Figure size 640x480 with 1 Axes>"
            ],
            "image/png": "[encoded data removed]"
          },
          "metadata": {}
        }
      ]
    },
    {
      "cell_type": "markdown",
      "source": [
        "Если взять все названия к видео, вне привязки к каналам, то мы видим, что длинна текста в основном около 50 символов.  \n",
        "Это не так много, но около нулевых длин мало.  \n",
        "Такое распределение выглядит перспективыным.  \n",
        "Плюс в названиях пытаются отразить суть видео, что далеко не всего может отражать категорию, но уже блико.  "
      ],
      "metadata": {
        "id": "B2Lt-nTwOukN"
      }
    },
    {
      "cell_type": "code",
      "source": [
        "df.explode('video_descriptions')['video_descriptions'].str.len().hist(bins=40)"
      ],
      "metadata": {
        "colab": {
          "base_uri": "https://localhost:8080/",
          "height": 448
        },
        "id": "3duaLHwzOsMY",
        "outputId": "34db92a5-5335-429f-8850-0259976a4396"
      },
      "execution_count": 14,
      "outputs": [
        {
          "output_type": "execute_result",
          "data": {
            "text/plain": [
              "<Axes: >"
            ]
          },
          "metadata": {},
          "execution_count": 14
        },
        {
          "output_type": "display_data",
          "data": {
            "text/plain": [
              "<Figure size 640x480 with 1 Axes>"
            ],
            "image/png": "[encoded data removed]"
          },
          "metadata": {}
        }
      ]
    },
    {
      "cell_type": "markdown",
      "source": [
        "Описание к видео в большинстве своем пустое. Плюс большая часть информации это реклама и ссылки на соцсети.  \n",
        "Такие данные не подойдут для обучения"
      ],
      "metadata": {
        "id": "2xZ-hWXMPYFe"
      }
    },
    {
      "cell_type": "markdown",
      "source": [
        "#### Вывод  \n",
        "Далее будем использовать названи к видео и попытаемся их при их помощи построить классификатор.  "
      ],
      "metadata": {
        "id": "1SN4259_Pr-z"
      }
    },
    {
      "cell_type": "markdown",
      "source": [
        "### Обучение моделей"
      ],
      "metadata": {
        "id": "WUU6f5WHP579"
      }
    },
    {
      "cell_type": "markdown",
      "source": [
        "#### Подготовка данных"
      ],
      "metadata": {
        "id": "CJAQnx71P96h"
      }
    },
    {
      "cell_type": "markdown",
      "source": [
        "* Объединим размеченные данные с выгруженной информаций о каналах.  \n",
        "* Сделаем словарь классов для токенизации нашего таргета.  \n",
        "* А также отчистим от пропусков, которые возникли из-за того, что при выгрузке некоторые каналы не доступны или заблокированы."
      ],
      "metadata": {
        "id": "9EExslIHQBVD"
      }
    },
    {
      "cell_type": "code",
      "execution_count": 15,
      "metadata": {
        "id": "AFTSFs6TPWo8"
      },
      "outputs": [],
      "source": [
        "df = df_topics.reset_index().merge(df, on='index', how='left')"
      ]
    },
    {
      "cell_type": "code",
      "execution_count": 16,
      "metadata": {
        "id": "chsO4xWFw9oh",
        "colab": {
          "base_uri": "https://localhost:8080/"
        },
        "outputId": "70fce4a6-b8bb-446a-864f-74825f5a4a25"
      },
      "outputs": [
        {
          "output_type": "stream",
          "name": "stdout",
          "text": [
            "{'?': 0, 'Авто/Мото': 1, 'Игры': 2, 'Кино': 3, 'Лайфстайл': 4, 'Музыка': 5, 'Развлечения': 6, 'Спорт': 7, 'Увлечение и хобби': 8, 'Эзотерика': 9, 'Юмор': 10}\n"
          ]
        }
      ],
      "source": [
        "target_dict = {}\n",
        "for id, i in enumerate(sorted(df['topic_one'].unique())):\n",
        "  target_dict[i] = id\n",
        "print(target_dict)\n"
      ]
    },
    {
      "cell_type": "code",
      "execution_count": 17,
      "metadata": {
        "id": "_nfhc3xuKSsP",
        "colab": {
          "base_uri": "https://localhost:8080/"
        },
        "outputId": "0488c523-77bd-4d61-ac3e-a67c47651eee"
      },
      "outputs": [
        {
          "output_type": "execute_result",
          "data": {
            "text/plain": [
              "Развлечения          500\n",
              "Юмор                 500\n",
              "Кино                 500\n",
              "Игры                 500\n",
              "Авто/Мото            500\n",
              "Музыка               500\n",
              "Увлечение и хобби    500\n",
              "Лайфстайл            500\n",
              "Эзотерика            500\n",
              "Спорт                500\n",
              "?                    500\n",
              "Name: topic_one, dtype: int64"
            ]
          },
          "metadata": {},
          "execution_count": 17
        }
      ],
      "source": [
        "df['topic_one'].value_counts()"
      ]
    },
    {
      "cell_type": "code",
      "execution_count": 18,
      "metadata": {
        "id": "h7YzJ7udIkK9"
      },
      "outputs": [],
      "source": [
        "df['target_token'] = df['topic_one'].apply(lambda x: target_dict[x])"
      ]
    },
    {
      "cell_type": "code",
      "execution_count": 19,
      "metadata": {
        "id": "eOrbusA5LuEb",
        "colab": {
          "base_uri": "https://localhost:8080/"
        },
        "outputId": "8458dc2d-b320-49b2-b9d9-e95ede7b66be"
      },
      "outputs": [
        {
          "output_type": "execute_result",
          "data": {
            "text/plain": [
              "6     500\n",
              "10    500\n",
              "3     500\n",
              "2     500\n",
              "1     500\n",
              "5     500\n",
              "8     500\n",
              "4     500\n",
              "9     500\n",
              "7     500\n",
              "0     500\n",
              "Name: target_token, dtype: int64"
            ]
          },
          "metadata": {},
          "execution_count": 19
        }
      ],
      "source": [
        "df['target_token'].value_counts()"
      ]
    },
    {
      "cell_type": "code",
      "execution_count": 20,
      "metadata": {
        "id": "4LA--AgoMqvM",
        "colab": {
          "base_uri": "https://localhost:8080/",
          "height": 608
        },
        "outputId": "9923f0b4-4c20-414a-a450-ac74c4ba261c"
      },
      "outputs": [
        {
          "output_type": "execute_result",
          "data": {
            "text/plain": [
              "   index                                                url  \\\n",
              "0      0  http://www.youtube.com/channel/UC2tsySbe9TNrI-...   \n",
              "1      1  http://www.youtube.com/channel/UCdKuE7a2QZeHPh...   \n",
              "2      2  http://www.youtube.com/channel/UCE7f6y9VGVdZEt...   \n",
              "3      3  http://www.youtube.com/channel/UC6JRrn_7Qe1CZB...   \n",
              "4      4  http://www.youtube.com/channel/UC7VUPJfRyt57Xo...   \n",
              "\n",
              "               topic    topic_one  \\\n",
              "0  Развлечения, Юмор  Развлечения   \n",
              "1         Юмор, Игры         Юмор   \n",
              "2               Юмор         Юмор   \n",
              "3        Развлечения  Развлечения   \n",
              "4               Кино         Кино   \n",
              "\n",
              "                                 channel_description  \\\n",
              "0  Канал называется А4, почему так? Тебе нужно за...   \n",
              "1  Здесь можно поржать, отложить кирпичей, снять ...   \n",
              "2                     Всем спасибо за подписку❤️\\n\\n   \n",
              "3  Я не знаю, зачем создал этот канал, но он врод...   \n",
              "4  ❌Самый молодой режиссёр страны❌\\nСнимаю фильмы...   \n",
              "\n",
              "                                        video_titles  \\\n",
              "0  [24 Часа в ИГЛУ ! * ВЫЖИВАНИЕ 1 ЧАС ВЛОГ *, Эк...   \n",
              "1  [ОГРОМНАЯ ЗМЕЮКА ► Resident Evil HD Remaster #...   \n",
              "2  [ИДЕАЛЬНАЯ ШКОЛА (смешное видео, приколы, юмор...   \n",
              "3  [Самый Везучий Выиграет 200.000! (Горилла, Кор...   \n",
              "4  [❌Дети совсем с ума сошли со «Слова пацана»  #...   \n",
              "\n",
              "                                  video_descriptions  \\\n",
              "0  [Официальный мерч А4 : https://a4shop.ru\\n\\nМы...   \n",
              "1  [Прохождение Resident Evil HD Remaster. Всем п...   \n",
              "2  [, , , , , , , , , , , , , , , , , , , , , , ,...   \n",
              "3  [Горы кэшбэка с Tinkoff Premium — https://l.ti...   \n",
              "4  [, , , СЕРИАЛ УЖЕ ВЫШЕЛ. СМОТРИТЕ ЕГО ЗДЕСЬ: h...   \n",
              "\n",
              "                                           video_ids  \\\n",
              "0  [OH2s8vQAWug, zzc4oXazwrg, HPcp0TOhZRo, yLftCk...   \n",
              "1  [A98M-aUIgXI, vGDjLQDHPxw, CXiCyvBYtzA, Mx6_vS...   \n",
              "2  [e6vFQn0Oegs, Sb5iouUNKw4, -FnQETxkvNs, pF9zuj...   \n",
              "3  [PnLS-kbwbog, ygkDbP3wz9U, X7a7VNC-ZmM, rbKpcX...   \n",
              "4  [HJVY8QscD7E, iaZaxLWQMek, KnKOsdZxYs4, eUUMNx...   \n",
              "\n",
              "                                video_published_time  target_token  \n",
              "0  [2024-01-31T12:01:30Z, 2024-01-29T12:01:02Z, 2...             6  \n",
              "1  [2024-01-30T15:00:07Z, 2024-01-29T15:01:00Z, 2...            10  \n",
              "2  [2024-01-30T13:00:36Z, 2024-01-28T13:00:24Z, 2...            10  \n",
              "3  [2024-01-31T17:39:26Z, 2024-01-13T15:09:39Z, 2...             6  \n",
              "4  [2023-12-27T14:39:30Z, 2023-12-20T16:12:07Z, 2...             3  "
            ],
            "text/html": [
              "\n",
              "  <div id=\"df-85e5e942-3fa9-45f0-a93a-5694cf567508\" class=\"colab-df-container\">\n",
              "    <div>\n",
              "<style scoped>\n",
              "    .dataframe tbody tr th:only-of-type {\n",
              "        vertical-align: middle;\n",
              "    }\n",
              "\n",
              "    .dataframe tbody tr th {\n",
              "        vertical-align: top;\n",
              "    }\n",
              "\n",
              "    .dataframe thead th {\n",
              "        text-align: right;\n",
              "    }\n",
              "</style>\n",
              "<table border=\"1\" class=\"dataframe\">\n",
              "  <thead>\n",
              "    <tr style=\"text-align: right;\">\n",
              "      <th></th>\n",
              "      <th>index</th>\n",
              "      <th>url</th>\n",
              "      <th>topic</th>\n",
              "      <th>topic_one</th>\n",
              "      <th>channel_description</th>\n",
              "      <th>video_titles</th>\n",
              "      <th>video_descriptions</th>\n",
              "      <th>video_ids</th>\n",
              "      <th>video_published_time</th>\n",
              "      <th>target_token</th>\n",
              "    </tr>\n",
              "  </thead>\n",
              "  <tbody>\n",
              "    <tr>\n",
              "      <th>0</th>\n",
              "      <td>0</td>\n",
              "      <td>http://www.youtube.com/channel/UC2tsySbe9TNrI-...</td>\n",
              "      <td>Развлечения, Юмор</td>\n",
              "      <td>Развлечения</td>\n",
              "      <td>Канал называется А4, почему так? Тебе нужно за...</td>\n",
              "      <td>[24 Часа в ИГЛУ ! * ВЫЖИВАНИЕ 1 ЧАС ВЛОГ *, Эк...</td>\n",
              "      <td>[Официальный мерч А4 : https://a4shop.ru\\n\\nМы...</td>\n",
              "      <td>[OH2s8vQAWug, zzc4oXazwrg, HPcp0TOhZRo, yLftCk...</td>\n",
              "      <td>[2024-01-31T12:01:30Z, 2024-01-29T12:01:02Z, 2...</td>\n",
              "      <td>6</td>\n",
              "    </tr>\n",
              "    <tr>\n",
              "      <th>1</th>\n",
              "      <td>1</td>\n",
              "      <td>http://www.youtube.com/channel/UCdKuE7a2QZeHPh...</td>\n",
              "      <td>Юмор, Игры</td>\n",
              "      <td>Юмор</td>\n",
              "      <td>Здесь можно поржать, отложить кирпичей, снять ...</td>\n",
              "      <td>[ОГРОМНАЯ ЗМЕЮКА ► Resident Evil HD Remaster #...</td>\n",
              "      <td>[Прохождение Resident Evil HD Remaster. Всем п...</td>\n",
              "      <td>[A98M-aUIgXI, vGDjLQDHPxw, CXiCyvBYtzA, Mx6_vS...</td>\n",
              "      <td>[2024-01-30T15:00:07Z, 2024-01-29T15:01:00Z, 2...</td>\n",
              "      <td>10</td>\n",
              "    </tr>\n",
              "    <tr>\n",
              "      <th>2</th>\n",
              "      <td>2</td>\n",
              "      <td>http://www.youtube.com/channel/UCE7f6y9VGVdZEt...</td>\n",
              "      <td>Юмор</td>\n",
              "      <td>Юмор</td>\n",
              "      <td>Всем спасибо за подписку❤️\\n\\n</td>\n",
              "      <td>[ИДЕАЛЬНАЯ ШКОЛА (смешное видео, приколы, юмор...</td>\n",
              "      <td>[, , , , , , , , , , , , , , , , , , , , , , ,...</td>\n",
              "      <td>[e6vFQn0Oegs, Sb5iouUNKw4, -FnQETxkvNs, pF9zuj...</td>\n",
              "      <td>[2024-01-30T13:00:36Z, 2024-01-28T13:00:24Z, 2...</td>\n",
              "      <td>10</td>\n",
              "    </tr>\n",
              "    <tr>\n",
              "      <th>3</th>\n",
              "      <td>3</td>\n",
              "      <td>http://www.youtube.com/channel/UC6JRrn_7Qe1CZB...</td>\n",
              "      <td>Развлечения</td>\n",
              "      <td>Развлечения</td>\n",
              "      <td>Я не знаю, зачем создал этот канал, но он врод...</td>\n",
              "      <td>[Самый Везучий Выиграет 200.000! (Горилла, Кор...</td>\n",
              "      <td>[Горы кэшбэка с Tinkoff Premium — https://l.ti...</td>\n",
              "      <td>[PnLS-kbwbog, ygkDbP3wz9U, X7a7VNC-ZmM, rbKpcX...</td>\n",
              "      <td>[2024-01-31T17:39:26Z, 2024-01-13T15:09:39Z, 2...</td>\n",
              "      <td>6</td>\n",
              "    </tr>\n",
              "    <tr>\n",
              "      <th>4</th>\n",
              "      <td>4</td>\n",
              "      <td>http://www.youtube.com/channel/UC7VUPJfRyt57Xo...</td>\n",
              "      <td>Кино</td>\n",
              "      <td>Кино</td>\n",
              "      <td>❌Самый молодой режиссёр страны❌\\nСнимаю фильмы...</td>\n",
              "      <td>[❌Дети совсем с ума сошли со «Слова пацана»  #...</td>\n",
              "      <td>[, , , СЕРИАЛ УЖЕ ВЫШЕЛ. СМОТРИТЕ ЕГО ЗДЕСЬ: h...</td>\n",
              "      <td>[HJVY8QscD7E, iaZaxLWQMek, KnKOsdZxYs4, eUUMNx...</td>\n",
              "      <td>[2023-12-27T14:39:30Z, 2023-12-20T16:12:07Z, 2...</td>\n",
              "      <td>3</td>\n",
              "    </tr>\n",
              "  </tbody>\n",
              "</table>\n",
              "</div>\n",
              "    <div class=\"colab-df-buttons\">\n",
              "\n",
              "  <div class=\"colab-df-container\">\n",
              "    <button class=\"colab-df-convert\" onclick=\"convertToInteractive('df-85e5e942-3fa9-45f0-a93a-5694cf567508')\"\n",
              "            title=\"Convert this dataframe to an interactive table.\"\n",
              "            style=\"display:none;\">\n",
              "\n",
              "  <svg xmlns=\"http://www.w3.org/2000/svg\" height=\"24px\" viewBox=\"0 -960 960 960\">\n",
              "    <path d=\"M120-120v-720h720v720H120Zm60-500h600v-160H180v160Zm220 220h160v-160H400v160Zm0 220h160v-160H400v160ZM180-400h160v-160H180v160Zm440 0h160v-160H620v160ZM180-180h160v-160H180v160Zm440 0h160v-160H620v160Z\"/>\n",
              "  </svg>\n",
              "    </button>\n",
              "\n",
              "  <style>\n",
              "    .colab-df-container {\n",
              "      display:flex;\n",
              "      gap: 12px;\n",
              "    }\n",
              "\n",
              "    .colab-df-convert {\n",
              "      background-color: #E8F0FE;\n",
              "      border: none;\n",
              "      border-radius: 50%;\n",
              "      cursor: pointer;\n",
              "      display: none;\n",
              "      fill: #1967D2;\n",
              "      height: 32px;\n",
              "      padding: 0 0 0 0;\n",
              "      width: 32px;\n",
              "    }\n",
              "\n",
              "    .colab-df-convert:hover {\n",
              "      background-color: #E2EBFA;\n",
              "      box-shadow: 0px 1px 2px rgba(60, 64, 67, 0.3), 0px 1px 3px 1px rgba(60, 64, 67, 0.15);\n",
              "      fill: #174EA6;\n",
              "    }\n",
              "\n",
              "    .colab-df-buttons div {\n",
              "      margin-bottom: 4px;\n",
              "    }\n",
              "\n",
              "    [theme=dark] .colab-df-convert {\n",
              "      background-color: #3B4455;\n",
              "      fill: #D2E3FC;\n",
              "    }\n",
              "\n",
              "    [theme=dark] .colab-df-convert:hover {\n",
              "      background-color: #434B5C;\n",
              "      box-shadow: 0px 1px 3px 1px rgba(0, 0, 0, 0.15);\n",
              "      filter: drop-shadow(0px 1px 2px rgba(0, 0, 0, 0.3));\n",
              "      fill: #FFFFFF;\n",
              "    }\n",
              "  </style>\n",
              "\n",
              "    <script>\n",
              "      const buttonEl =\n",
              "        document.querySelector('#df-85e5e942-3fa9-45f0-a93a-5694cf567508 button.colab-df-convert');\n",
              "      buttonEl.style.display =\n",
              "        google.colab.kernel.accessAllowed ? 'block' : 'none';\n",
              "\n",
              "      async function convertToInteractive(key) {\n",
              "        const element = document.querySelector('#df-85e5e942-3fa9-45f0-a93a-5694cf567508');\n",
              "        const dataTable =\n",
              "          await google.colab.kernel.invokeFunction('convertToInteractive',\n",
              "                                                    [key], {});\n",
              "        if (!dataTable) return;\n",
              "\n",
              "        const docLinkHtml = 'Like what you see? Visit the ' +\n",
              "          '<a target=\"_blank\" href=https://colab.research.google.com/notebooks/data_table.ipynb>data table notebook</a>'\n",
              "          + ' to learn more about interactive tables.';\n",
              "        element.innerHTML = '';\n",
              "        dataTable['output_type'] = 'display_data';\n",
              "        await google.colab.output.renderOutput(dataTable, element);\n",
              "        const docLink = document.createElement('div');\n",
              "        docLink.innerHTML = docLinkHtml;\n",
              "        element.appendChild(docLink);\n",
              "      }\n",
              "    </script>\n",
              "  </div>\n",
              "\n",
              "\n",
              "<div id=\"df-29d5c215-464a-430d-9d9b-28c9b559ab23\">\n",
              "  <button class=\"colab-df-quickchart\" onclick=\"quickchart('df-29d5c215-464a-430d-9d9b-28c9b559ab23')\"\n",
              "            title=\"Suggest charts\"\n",
              "            style=\"display:none;\">\n",
              "\n",
              "<svg xmlns=\"http://www.w3.org/2000/svg\" height=\"24px\"viewBox=\"0 0 24 24\"\n",
              "     width=\"24px\">\n",
              "    <g>\n",
              "        <path d=\"M19 3H5c-1.1 0-2 .9-2 2v14c0 1.1.9 2 2 2h14c1.1 0 2-.9 2-2V5c0-1.1-.9-2-2-2zM9 17H7v-7h2v7zm4 0h-2V7h2v10zm4 0h-2v-4h2v4z\"/>\n",
              "    </g>\n",
              "</svg>\n",
              "  </button>\n",
              "\n",
              "<style>\n",
              "  .colab-df-quickchart {\n",
              "      --bg-color: #E8F0FE;\n",
              "      --fill-color: #1967D2;\n",
              "      --hover-bg-color: #E2EBFA;\n",
              "      --hover-fill-color: #174EA6;\n",
              "      --disabled-fill-color: #AAA;\n",
              "      --disabled-bg-color: #DDD;\n",
              "  }\n",
              "\n",
              "  [theme=dark] .colab-df-quickchart {\n",
              "      --bg-color: #3B4455;\n",
              "      --fill-color: #D2E3FC;\n",
              "      --hover-bg-color: #434B5C;\n",
              "      --hover-fill-color: #FFFFFF;\n",
              "      --disabled-bg-color: #3B4455;\n",
              "      --disabled-fill-color: #666;\n",
              "  }\n",
              "\n",
              "  .colab-df-quickchart {\n",
              "    background-color: var(--bg-color);\n",
              "    border: none;\n",
              "    border-radius: 50%;\n",
              "    cursor: pointer;\n",
              "    display: none;\n",
              "    fill: var(--fill-color);\n",
              "    height: 32px;\n",
              "    padding: 0;\n",
              "    width: 32px;\n",
              "  }\n",
              "\n",
              "  .colab-df-quickchart:hover {\n",
              "    background-color: var(--hover-bg-color);\n",
              "    box-shadow: 0 1px 2px rgba(60, 64, 67, 0.3), 0 1px 3px 1px rgba(60, 64, 67, 0.15);\n",
              "    fill: var(--button-hover-fill-color);\n",
              "  }\n",
              "\n",
              "  .colab-df-quickchart-complete:disabled,\n",
              "  .colab-df-quickchart-complete:disabled:hover {\n",
              "    background-color: var(--disabled-bg-color);\n",
              "    fill: var(--disabled-fill-color);\n",
              "    box-shadow: none;\n",
              "  }\n",
              "\n",
              "  .colab-df-spinner {\n",
              "    border: 2px solid var(--fill-color);\n",
              "    border-color: transparent;\n",
              "    border-bottom-color: var(--fill-color);\n",
              "    animation:\n",
              "      spin 1s steps(1) infinite;\n",
              "  }\n",
              "\n",
              "  @keyframes spin {\n",
              "    0% {\n",
              "      border-color: transparent;\n",
              "      border-bottom-color: var(--fill-color);\n",
              "      border-left-color: var(--fill-color);\n",
              "    }\n",
              "    20% {\n",
              "      border-color: transparent;\n",
              "      border-left-color: var(--fill-color);\n",
              "      border-top-color: var(--fill-color);\n",
              "    }\n",
              "    30% {\n",
              "      border-color: transparent;\n",
              "      border-left-color: var(--fill-color);\n",
              "      border-top-color: var(--fill-color);\n",
              "      border-right-color: var(--fill-color);\n",
              "    }\n",
              "    40% {\n",
              "      border-color: transparent;\n",
              "      border-right-color: var(--fill-color);\n",
              "      border-top-color: var(--fill-color);\n",
              "    }\n",
              "    60% {\n",
              "      border-color: transparent;\n",
              "      border-right-color: var(--fill-color);\n",
              "    }\n",
              "    80% {\n",
              "      border-color: transparent;\n",
              "      border-right-color: var(--fill-color);\n",
              "      border-bottom-color: var(--fill-color);\n",
              "    }\n",
              "    90% {\n",
              "      border-color: transparent;\n",
              "      border-bottom-color: var(--fill-color);\n",
              "    }\n",
              "  }\n",
              "</style>\n",
              "\n",
              "  <script>\n",
              "    async function quickchart(key) {\n",
              "      const quickchartButtonEl =\n",
              "        document.querySelector('#' + key + ' button');\n",
              "      quickchartButtonEl.disabled = true;  // To prevent multiple clicks.\n",
              "      quickchartButtonEl.classList.add('colab-df-spinner');\n",
              "      try {\n",
              "        const charts = await google.colab.kernel.invokeFunction(\n",
              "            'suggestCharts', [key], {});\n",
              "      } catch (error) {\n",
              "        console.error('Error during call to suggestCharts:', error);\n",
              "      }\n",
              "      quickchartButtonEl.classList.remove('colab-df-spinner');\n",
              "      quickchartButtonEl.classList.add('colab-df-quickchart-complete');\n",
              "    }\n",
              "    (() => {\n",
              "      let quickchartButtonEl =\n",
              "        document.querySelector('#df-29d5c215-464a-430d-9d9b-28c9b559ab23 button');\n",
              "      quickchartButtonEl.style.display =\n",
              "        google.colab.kernel.accessAllowed ? 'block' : 'none';\n",
              "    })();\n",
              "  </script>\n",
              "</div>\n",
              "\n",
              "    </div>\n",
              "  </div>\n"
            ]
          },
          "metadata": {},
          "execution_count": 20
        }
      ],
      "source": [
        "df.head()"
      ]
    },
    {
      "cell_type": "code",
      "source": [
        "df['video_titles'].isna().sum()"
      ],
      "metadata": {
        "colab": {
          "base_uri": "https://localhost:8080/"
        },
        "id": "CgotZy0XQwz-",
        "outputId": "23e6aa54-ad8e-4a02-abc2-6121faf9de82"
      },
      "execution_count": 21,
      "outputs": [
        {
          "output_type": "execute_result",
          "data": {
            "text/plain": [
              "207"
            ]
          },
          "metadata": {},
          "execution_count": 21
        }
      ]
    },
    {
      "cell_type": "code",
      "source": [
        "df.info()"
      ],
      "metadata": {
        "colab": {
          "base_uri": "https://localhost:8080/"
        },
        "id": "UHQYAtnpRS4H",
        "outputId": "a80ef2b1-f310-4fb7-a11c-0606a2901ca9"
      },
      "execution_count": 22,
      "outputs": [
        {
          "output_type": "stream",
          "name": "stdout",
          "text": [
            "<class 'pandas.core.frame.DataFrame'>\n",
            "Int64Index: 5500 entries, 0 to 5499\n",
            "Data columns (total 10 columns):\n",
            " #   Column                Non-Null Count  Dtype \n",
            "---  ------                --------------  ----- \n",
            " 0   index                 5500 non-null   int64 \n",
            " 1   url                   5500 non-null   object\n",
            " 2   topic                 5500 non-null   object\n",
            " 3   topic_one             5500 non-null   object\n",
            " 4   channel_description   5198 non-null   object\n",
            " 5   video_titles          5293 non-null   object\n",
            " 6   video_descriptions    5293 non-null   object\n",
            " 7   video_ids             5293 non-null   object\n",
            " 8   video_published_time  5293 non-null   object\n",
            " 9   target_token          5500 non-null   int64 \n",
            "dtypes: int64(2), object(8)\n",
            "memory usage: 472.7+ KB\n"
          ]
        }
      ]
    },
    {
      "cell_type": "code",
      "execution_count": 23,
      "metadata": {
        "id": "4v01_LN-DSIT"
      },
      "outputs": [],
      "source": [
        "df = df.dropna()"
      ]
    },
    {
      "cell_type": "code",
      "execution_count": 24,
      "metadata": {
        "id": "tUcFKLVXPzKX",
        "colab": {
          "base_uri": "https://localhost:8080/"
        },
        "outputId": "82a45428-8086-4d41-eab6-cccc99b23725"
      },
      "outputs": [
        {
          "output_type": "stream",
          "name": "stdout",
          "text": [
            "<class 'pandas.core.frame.DataFrame'>\n",
            "Int64Index: 5198 entries, 0 to 5498\n",
            "Data columns (total 10 columns):\n",
            " #   Column                Non-Null Count  Dtype \n",
            "---  ------                --------------  ----- \n",
            " 0   index                 5198 non-null   int64 \n",
            " 1   url                   5198 non-null   object\n",
            " 2   topic                 5198 non-null   object\n",
            " 3   topic_one             5198 non-null   object\n",
            " 4   channel_description   5198 non-null   object\n",
            " 5   video_titles          5198 non-null   object\n",
            " 6   video_descriptions    5198 non-null   object\n",
            " 7   video_ids             5198 non-null   object\n",
            " 8   video_published_time  5198 non-null   object\n",
            " 9   target_token          5198 non-null   int64 \n",
            "dtypes: int64(2), object(8)\n",
            "memory usage: 446.7+ KB\n"
          ]
        }
      ],
      "source": [
        "df.info()"
      ]
    },
    {
      "cell_type": "code",
      "execution_count": 24,
      "metadata": {
        "id": "Pj-JQW6ePzS7"
      },
      "outputs": [],
      "source": []
    },
    {
      "cell_type": "markdown",
      "source": [
        "#### Удаление \"мусора\" из текста  \n",
        "Удалим все симполы, которые не являются буквой.  \n",
        "Удалим все символы контроля.  \n"
      ],
      "metadata": {
        "id": "IBDRQSQh33Jp"
      }
    },
    {
      "cell_type": "code",
      "execution_count": 25,
      "metadata": {
        "id": "19Kr5_1uSj3j"
      },
      "outputs": [],
      "source": [
        "def remove_accented_chars(sentence):\n",
        "  t = []\n",
        "  for x in sentence:\n",
        "    # Используйте 'NFKC' для русского языка\n",
        "    x = unicodedata.normalize('NFKC', x)\n",
        "\n",
        "    # Удалите символы, которые не являются буквами русского алфавита\n",
        "    x = ''.join(char for char in x if char.isalpha() or char.isspace())\n",
        "    t.append(x)\n",
        "  return t\n",
        "\n",
        "def remove_control_characters(sentence):\n",
        "    t = []\n",
        "    for x in sentence:\n",
        "        pattern = re.compile(r'[\\n\\t\\r\\\\\\'\\\"]')\n",
        "        cleaned_text = re.sub(pattern, ' ', x)\n",
        "        t.append(cleaned_text)\n",
        "    return t"
      ]
    },
    {
      "cell_type": "markdown",
      "source": [
        "Попробуем применить TFIDF, BERT, FastText к нашим данным и посмотрим на результат."
      ],
      "metadata": {
        "id": "Q1uBHWWg5-rT"
      }
    },
    {
      "cell_type": "markdown",
      "source": [
        "#### TFIDF с explode  \n",
        "\n",
        "TFIDF хорошо подходится для решения такой задачи, т.к. связанного контекста у нас в названиях мало, сами они короткие, слова часто просто перечисляются.  \n",
        "Оценивать отношение к той или иной категории будет эффективнее просто по встречаемости отдельных слов.  \n",
        "У нас для каждого канала списко с названиями видео. Мы можем либо их объединить в одну строку и отправить в алгоритм, либо развернуть списко и сделать каждое название экземпляром класса, которое присвоено каналу.  \n",
        "По идее результат должен быть одинаковый."
      ],
      "metadata": {
        "id": "poHEJLVk51yW"
      }
    },
    {
      "cell_type": "markdown",
      "source": [
        "Отчистим данные от \"мусора\""
      ],
      "metadata": {
        "id": "HkORROfV6-Ni"
      }
    },
    {
      "cell_type": "code",
      "execution_count": 26,
      "metadata": {
        "id": "KbGj4ryKbQpP"
      },
      "outputs": [],
      "source": [
        "df['video_titles_clean'] = df['video_titles'].apply(remove_control_characters).apply(remove_accented_chars).apply(lambda x: ''.join(x))"
      ]
    },
    {
      "cell_type": "code",
      "source": [
        "df['video_titles_clean'].head()"
      ],
      "metadata": {
        "colab": {
          "base_uri": "https://localhost:8080/"
        },
        "id": "B-6qD6cW4_7j",
        "outputId": "1774f584-0701-40d1-d136-9c9afba2303e"
      },
      "execution_count": 27,
      "outputs": [
        {
          "output_type": "execute_result",
          "data": {
            "text/plain": [
              "0     Часа в ИГЛУ   ВЫЖИВАНИЕ  ЧАС ВЛОГ Экстремальн...\n",
              "1    ОГРОМНАЯ ЗМЕЮКА  Resident Evil HD Remaster КУП...\n",
              "2    ИДЕАЛЬНАЯ ШКОЛА смешное видео приколы юмор пор...\n",
              "3    Самый Везучий Выиграет  Горилла Кореш Коффи Ди...\n",
              "4    Дети совсем с ума сошли со Слова пацана  lostm...\n",
              "Name: video_titles_clean, dtype: object"
            ]
          },
          "metadata": {},
          "execution_count": 27
        }
      ]
    },
    {
      "cell_type": "markdown",
      "source": [
        "Разделим на обучающую и тестовую выборку, сделаем ее стратифицированной, несмотря на то, что у нас выборка практически сбалансирована."
      ],
      "metadata": {
        "id": "uQz6nN7S7CnR"
      }
    },
    {
      "cell_type": "code",
      "execution_count": 28,
      "metadata": {
        "id": "NtjdTWqVBe_x"
      },
      "outputs": [],
      "source": [
        "train, test, y_train, y_test = train_test_split(df['video_titles'], df['target_token'], test_size=0.2, random_state=42, stratify=df['target_token'])"
      ]
    },
    {
      "cell_type": "markdown",
      "source": [
        "Создадим новый датафрем с развернутыми из списков названиями видео"
      ],
      "metadata": {
        "id": "g8ODh7Tz8DCj"
      }
    },
    {
      "cell_type": "code",
      "source": [
        "df_test = pd.DataFrame()\n",
        "df_test['test'] = test\n",
        "df_test['y_test'] = y_test\n",
        "\n",
        "df_train = pd.DataFrame()\n",
        "df_train['train'] = train\n",
        "df_train['y_train'] = y_train\n",
        "\n",
        "train = df_train.explode('train').reset_index()\n",
        "test = df_test.explode('test').reset_index()"
      ],
      "metadata": {
        "id": "ejVCxe4OmTTC"
      },
      "execution_count": 29,
      "outputs": []
    },
    {
      "cell_type": "code",
      "source": [
        "print('Кол-во образцов в тренировочной выборке: ', len(train))\n",
        "print()\n",
        "train.head()\n"
      ],
      "metadata": {
        "colab": {
          "base_uri": "https://localhost:8080/",
          "height": 243
        },
        "id": "iICZPNDmmZn_",
        "outputId": "0ff7ba4f-9117-4c0f-8114-f8ccb984193d"
      },
      "execution_count": 30,
      "outputs": [
        {
          "output_type": "stream",
          "name": "stdout",
          "text": [
            "Кол-во образцов в тренировочной выборке:  200798\n",
            "\n"
          ]
        },
        {
          "output_type": "execute_result",
          "data": {
            "text/plain": [
              "   index                                              train  y_train\n",
              "0   3516                           #юляшереметьева 26.01.24        5\n",
              "1   3516  Дуэт Юля Шереметьева (гр Леди) и Сергей Васюта...        5\n",
              "2   3516  За кулисами Вегас Сити Холл #юляшереметьева #г...        5\n",
              "3   3516              Юля и русская зима 🥶😯 #юляшереметьева        5\n",
              "4   3516  Раскрываю секреты моей фотосессии 🤫📸 #юляшерем...        5"
            ],
            "text/html": [
              "\n",
              "  <div id=\"df-83e80644-ca26-4643-a1b8-1100ddf915c9\" class=\"colab-df-container\">\n",
              "    <div>\n",
              "<style scoped>\n",
              "    .dataframe tbody tr th:only-of-type {\n",
              "        vertical-align: middle;\n",
              "    }\n",
              "\n",
              "    .dataframe tbody tr th {\n",
              "        vertical-align: top;\n",
              "    }\n",
              "\n",
              "    .dataframe thead th {\n",
              "        text-align: right;\n",
              "    }\n",
              "</style>\n",
              "<table border=\"1\" class=\"dataframe\">\n",
              "  <thead>\n",
              "    <tr style=\"text-align: right;\">\n",
              "      <th></th>\n",
              "      <th>index</th>\n",
              "      <th>train</th>\n",
              "      <th>y_train</th>\n",
              "    </tr>\n",
              "  </thead>\n",
              "  <tbody>\n",
              "    <tr>\n",
              "      <th>0</th>\n",
              "      <td>3516</td>\n",
              "      <td>#юляшереметьева 26.01.24</td>\n",
              "      <td>5</td>\n",
              "    </tr>\n",
              "    <tr>\n",
              "      <th>1</th>\n",
              "      <td>3516</td>\n",
              "      <td>Дуэт Юля Шереметьева (гр Леди) и Сергей Васюта...</td>\n",
              "      <td>5</td>\n",
              "    </tr>\n",
              "    <tr>\n",
              "      <th>2</th>\n",
              "      <td>3516</td>\n",
              "      <td>За кулисами Вегас Сити Холл #юляшереметьева #г...</td>\n",
              "      <td>5</td>\n",
              "    </tr>\n",
              "    <tr>\n",
              "      <th>3</th>\n",
              "      <td>3516</td>\n",
              "      <td>Юля и русская зима 🥶😯 #юляшереметьева</td>\n",
              "      <td>5</td>\n",
              "    </tr>\n",
              "    <tr>\n",
              "      <th>4</th>\n",
              "      <td>3516</td>\n",
              "      <td>Раскрываю секреты моей фотосессии 🤫📸 #юляшерем...</td>\n",
              "      <td>5</td>\n",
              "    </tr>\n",
              "  </tbody>\n",
              "</table>\n",
              "</div>\n",
              "    <div class=\"colab-df-buttons\">\n",
              "\n",
              "  <div class=\"colab-df-container\">\n",
              "    <button class=\"colab-df-convert\" onclick=\"convertToInteractive('df-83e80644-ca26-4643-a1b8-1100ddf915c9')\"\n",
              "            title=\"Convert this dataframe to an interactive table.\"\n",
              "            style=\"display:none;\">\n",
              "\n",
              "  <svg xmlns=\"http://www.w3.org/2000/svg\" height=\"24px\" viewBox=\"0 -960 960 960\">\n",
              "    <path d=\"M120-120v-720h720v720H120Zm60-500h600v-160H180v160Zm220 220h160v-160H400v160Zm0 220h160v-160H400v160ZM180-400h160v-160H180v160Zm440 0h160v-160H620v160ZM180-180h160v-160H180v160Zm440 0h160v-160H620v160Z\"/>\n",
              "  </svg>\n",
              "    </button>\n",
              "\n",
              "  <style>\n",
              "    .colab-df-container {\n",
              "      display:flex;\n",
              "      gap: 12px;\n",
              "    }\n",
              "\n",
              "    .colab-df-convert {\n",
              "      background-color: #E8F0FE;\n",
              "      border: none;\n",
              "      border-radius: 50%;\n",
              "      cursor: pointer;\n",
              "      display: none;\n",
              "      fill: #1967D2;\n",
              "      height: 32px;\n",
              "      padding: 0 0 0 0;\n",
              "      width: 32px;\n",
              "    }\n",
              "\n",
              "    .colab-df-convert:hover {\n",
              "      background-color: #E2EBFA;\n",
              "      box-shadow: 0px 1px 2px rgba(60, 64, 67, 0.3), 0px 1px 3px 1px rgba(60, 64, 67, 0.15);\n",
              "      fill: #174EA6;\n",
              "    }\n",
              "\n",
              "    .colab-df-buttons div {\n",
              "      margin-bottom: 4px;\n",
              "    }\n",
              "\n",
              "    [theme=dark] .colab-df-convert {\n",
              "      background-color: #3B4455;\n",
              "      fill: #D2E3FC;\n",
              "    }\n",
              "\n",
              "    [theme=dark] .colab-df-convert:hover {\n",
              "      background-color: #434B5C;\n",
              "      box-shadow: 0px 1px 3px 1px rgba(0, 0, 0, 0.15);\n",
              "      filter: drop-shadow(0px 1px 2px rgba(0, 0, 0, 0.3));\n",
              "      fill: #FFFFFF;\n",
              "    }\n",
              "  </style>\n",
              "\n",
              "    <script>\n",
              "      const buttonEl =\n",
              "        document.querySelector('#df-83e80644-ca26-4643-a1b8-1100ddf915c9 button.colab-df-convert');\n",
              "      buttonEl.style.display =\n",
              "        google.colab.kernel.accessAllowed ? 'block' : 'none';\n",
              "\n",
              "      async function convertToInteractive(key) {\n",
              "        const element = document.querySelector('#df-83e80644-ca26-4643-a1b8-1100ddf915c9');\n",
              "        const dataTable =\n",
              "          await google.colab.kernel.invokeFunction('convertToInteractive',\n",
              "                                                    [key], {});\n",
              "        if (!dataTable) return;\n",
              "\n",
              "        const docLinkHtml = 'Like what you see? Visit the ' +\n",
              "          '<a target=\"_blank\" href=https://colab.research.google.com/notebooks/data_table.ipynb>data table notebook</a>'\n",
              "          + ' to learn more about interactive tables.';\n",
              "        element.innerHTML = '';\n",
              "        dataTable['output_type'] = 'display_data';\n",
              "        await google.colab.output.renderOutput(dataTable, element);\n",
              "        const docLink = document.createElement('div');\n",
              "        docLink.innerHTML = docLinkHtml;\n",
              "        element.appendChild(docLink);\n",
              "      }\n",
              "    </script>\n",
              "  </div>\n",
              "\n",
              "\n",
              "<div id=\"df-48f352b8-5d83-42d8-89ea-0a308d16926b\">\n",
              "  <button class=\"colab-df-quickchart\" onclick=\"quickchart('df-48f352b8-5d83-42d8-89ea-0a308d16926b')\"\n",
              "            title=\"Suggest charts\"\n",
              "            style=\"display:none;\">\n",
              "\n",
              "<svg xmlns=\"http://www.w3.org/2000/svg\" height=\"24px\"viewBox=\"0 0 24 24\"\n",
              "     width=\"24px\">\n",
              "    <g>\n",
              "        <path d=\"M19 3H5c-1.1 0-2 .9-2 2v14c0 1.1.9 2 2 2h14c1.1 0 2-.9 2-2V5c0-1.1-.9-2-2-2zM9 17H7v-7h2v7zm4 0h-2V7h2v10zm4 0h-2v-4h2v4z\"/>\n",
              "    </g>\n",
              "</svg>\n",
              "  </button>\n",
              "\n",
              "<style>\n",
              "  .colab-df-quickchart {\n",
              "      --bg-color: #E8F0FE;\n",
              "      --fill-color: #1967D2;\n",
              "      --hover-bg-color: #E2EBFA;\n",
              "      --hover-fill-color: #174EA6;\n",
              "      --disabled-fill-color: #AAA;\n",
              "      --disabled-bg-color: #DDD;\n",
              "  }\n",
              "\n",
              "  [theme=dark] .colab-df-quickchart {\n",
              "      --bg-color: #3B4455;\n",
              "      --fill-color: #D2E3FC;\n",
              "      --hover-bg-color: #434B5C;\n",
              "      --hover-fill-color: #FFFFFF;\n",
              "      --disabled-bg-color: #3B4455;\n",
              "      --disabled-fill-color: #666;\n",
              "  }\n",
              "\n",
              "  .colab-df-quickchart {\n",
              "    background-color: var(--bg-color);\n",
              "    border: none;\n",
              "    border-radius: 50%;\n",
              "    cursor: pointer;\n",
              "    display: none;\n",
              "    fill: var(--fill-color);\n",
              "    height: 32px;\n",
              "    padding: 0;\n",
              "    width: 32px;\n",
              "  }\n",
              "\n",
              "  .colab-df-quickchart:hover {\n",
              "    background-color: var(--hover-bg-color);\n",
              "    box-shadow: 0 1px 2px rgba(60, 64, 67, 0.3), 0 1px 3px 1px rgba(60, 64, 67, 0.15);\n",
              "    fill: var(--button-hover-fill-color);\n",
              "  }\n",
              "\n",
              "  .colab-df-quickchart-complete:disabled,\n",
              "  .colab-df-quickchart-complete:disabled:hover {\n",
              "    background-color: var(--disabled-bg-color);\n",
              "    fill: var(--disabled-fill-color);\n",
              "    box-shadow: none;\n",
              "  }\n",
              "\n",
              "  .colab-df-spinner {\n",
              "    border: 2px solid var(--fill-color);\n",
              "    border-color: transparent;\n",
              "    border-bottom-color: var(--fill-color);\n",
              "    animation:\n",
              "      spin 1s steps(1) infinite;\n",
              "  }\n",
              "\n",
              "  @keyframes spin {\n",
              "    0% {\n",
              "      border-color: transparent;\n",
              "      border-bottom-color: var(--fill-color);\n",
              "      border-left-color: var(--fill-color);\n",
              "    }\n",
              "    20% {\n",
              "      border-color: transparent;\n",
              "      border-left-color: var(--fill-color);\n",
              "      border-top-color: var(--fill-color);\n",
              "    }\n",
              "    30% {\n",
              "      border-color: transparent;\n",
              "      border-left-color: var(--fill-color);\n",
              "      border-top-color: var(--fill-color);\n",
              "      border-right-color: var(--fill-color);\n",
              "    }\n",
              "    40% {\n",
              "      border-color: transparent;\n",
              "      border-right-color: var(--fill-color);\n",
              "      border-top-color: var(--fill-color);\n",
              "    }\n",
              "    60% {\n",
              "      border-color: transparent;\n",
              "      border-right-color: var(--fill-color);\n",
              "    }\n",
              "    80% {\n",
              "      border-color: transparent;\n",
              "      border-right-color: var(--fill-color);\n",
              "      border-bottom-color: var(--fill-color);\n",
              "    }\n",
              "    90% {\n",
              "      border-color: transparent;\n",
              "      border-bottom-color: var(--fill-color);\n",
              "    }\n",
              "  }\n",
              "</style>\n",
              "\n",
              "  <script>\n",
              "    async function quickchart(key) {\n",
              "      const quickchartButtonEl =\n",
              "        document.querySelector('#' + key + ' button');\n",
              "      quickchartButtonEl.disabled = true;  // To prevent multiple clicks.\n",
              "      quickchartButtonEl.classList.add('colab-df-spinner');\n",
              "      try {\n",
              "        const charts = await google.colab.kernel.invokeFunction(\n",
              "            'suggestCharts', [key], {});\n",
              "      } catch (error) {\n",
              "        console.error('Error during call to suggestCharts:', error);\n",
              "      }\n",
              "      quickchartButtonEl.classList.remove('colab-df-spinner');\n",
              "      quickchartButtonEl.classList.add('colab-df-quickchart-complete');\n",
              "    }\n",
              "    (() => {\n",
              "      let quickchartButtonEl =\n",
              "        document.querySelector('#df-48f352b8-5d83-42d8-89ea-0a308d16926b button');\n",
              "      quickchartButtonEl.style.display =\n",
              "        google.colab.kernel.accessAllowed ? 'block' : 'none';\n",
              "    })();\n",
              "  </script>\n",
              "</div>\n",
              "\n",
              "    </div>\n",
              "  </div>\n"
            ]
          },
          "metadata": {},
          "execution_count": 30
        }
      ]
    },
    {
      "cell_type": "code",
      "execution_count": 31,
      "metadata": {
        "id": "aEdlEiAuPZh6"
      },
      "outputs": [],
      "source": [
        "tfidf = TfidfVectorizer(stop_words=stopwords.words('russian'), ngram_range=(1,1))\n",
        "X_train = tfidf.fit_transform(train['train'])\n",
        "X_test = tfidf.transform(test['test'])"
      ]
    },
    {
      "cell_type": "code",
      "source": [
        "X_train"
      ],
      "metadata": {
        "id": "4ukjQeYqipMa",
        "colab": {
          "base_uri": "https://localhost:8080/"
        },
        "outputId": "689be199-42e7-416f-fe2e-de57e4e7a129"
      },
      "execution_count": 32,
      "outputs": [
        {
          "output_type": "execute_result",
          "data": {
            "text/plain": [
              "<200798x155724 sparse matrix of type '<class 'numpy.float64'>'\n",
              "\twith 1277910 stored elements in Compressed Sparse Row format>"
            ]
          },
          "metadata": {},
          "execution_count": 32
        }
      ]
    },
    {
      "cell_type": "code",
      "execution_count": 33,
      "metadata": {
        "id": "AYXtd00WQLSn"
      },
      "outputs": [],
      "source": [
        "model = LogisticRegression(solver='sag', class_weight='balanced')"
      ]
    },
    {
      "cell_type": "code",
      "execution_count": 34,
      "metadata": {
        "id": "t7Y77JLCQLVL",
        "colab": {
          "base_uri": "https://localhost:8080/",
          "height": 75
        },
        "outputId": "29c107e0-b15a-4232-bce2-35d1f9d6a8aa"
      },
      "outputs": [
        {
          "output_type": "execute_result",
          "data": {
            "text/plain": [
              "LogisticRegression(class_weight='balanced', solver='sag')"
            ],
            "text/html": [
              "<style>#sk-container-id-1 {color: black;background-color: white;}#sk-container-id-1 pre{padding: 0;}#sk-container-id-1 div.sk-toggleable {background-color: white;}#sk-container-id-1 label.sk-toggleable__label {cursor: pointer;display: block;width: 100%;margin-bottom: 0;padding: 0.3em;box-sizing: border-box;text-align: center;}#sk-container-id-1 label.sk-toggleable__label-arrow:before {content: \"▸\";float: left;margin-right: 0.25em;color: #696969;}#sk-container-id-1 label.sk-toggleable__label-arrow:hover:before {color: black;}#sk-container-id-1 div.sk-estimator:hover label.sk-toggleable__label-arrow:before {color: black;}#sk-container-id-1 div.sk-toggleable__content {max-height: 0;max-width: 0;overflow: hidden;text-align: left;background-color: #f0f8ff;}#sk-container-id-1 div.sk-toggleable__content pre {margin: 0.2em;color: black;border-radius: 0.25em;background-color: #f0f8ff;}#sk-container-id-1 input.sk-toggleable__control:checked~div.sk-toggleable__content {max-height: 200px;max-width: 100%;overflow: auto;}#sk-container-id-1 input.sk-toggleable__control:checked~label.sk-toggleable__label-arrow:before {content: \"▾\";}#sk-container-id-1 div.sk-estimator input.sk-toggleable__control:checked~label.sk-toggleable__label {background-color: #d4ebff;}#sk-container-id-1 div.sk-label input.sk-toggleable__control:checked~label.sk-toggleable__label {background-color: #d4ebff;}#sk-container-id-1 input.sk-hidden--visually {border: 0;clip: rect(1px 1px 1px 1px);clip: rect(1px, 1px, 1px, 1px);height: 1px;margin: -1px;overflow: hidden;padding: 0;position: absolute;width: 1px;}#sk-container-id-1 div.sk-estimator {font-family: monospace;background-color: #f0f8ff;border: 1px dotted black;border-radius: 0.25em;box-sizing: border-box;margin-bottom: 0.5em;}#sk-container-id-1 div.sk-estimator:hover {background-color: #d4ebff;}#sk-container-id-1 div.sk-parallel-item::after {content: \"\";width: 100%;border-bottom: 1px solid gray;flex-grow: 1;}#sk-container-id-1 div.sk-label:hover label.sk-toggleable__label {background-color: #d4ebff;}#sk-container-id-1 div.sk-serial::before {content: \"\";position: absolute;border-left: 1px solid gray;box-sizing: border-box;top: 0;bottom: 0;left: 50%;z-index: 0;}#sk-container-id-1 div.sk-serial {display: flex;flex-direction: column;align-items: center;background-color: white;padding-right: 0.2em;padding-left: 0.2em;position: relative;}#sk-container-id-1 div.sk-item {position: relative;z-index: 1;}#sk-container-id-1 div.sk-parallel {display: flex;align-items: stretch;justify-content: center;background-color: white;position: relative;}#sk-container-id-1 div.sk-item::before, #sk-container-id-1 div.sk-parallel-item::before {content: \"\";position: absolute;border-left: 1px solid gray;box-sizing: border-box;top: 0;bottom: 0;left: 50%;z-index: -1;}#sk-container-id-1 div.sk-parallel-item {display: flex;flex-direction: column;z-index: 1;position: relative;background-color: white;}#sk-container-id-1 div.sk-parallel-item:first-child::after {align-self: flex-end;width: 50%;}#sk-container-id-1 div.sk-parallel-item:last-child::after {align-self: flex-start;width: 50%;}#sk-container-id-1 div.sk-parallel-item:only-child::after {width: 0;}#sk-container-id-1 div.sk-dashed-wrapped {border: 1px dashed gray;margin: 0 0.4em 0.5em 0.4em;box-sizing: border-box;padding-bottom: 0.4em;background-color: white;}#sk-container-id-1 div.sk-label label {font-family: monospace;font-weight: bold;display: inline-block;line-height: 1.2em;}#sk-container-id-1 div.sk-label-container {text-align: center;}#sk-container-id-1 div.sk-container {/* jupyter's `normalize.less` sets `[hidden] { display: none; }` but bootstrap.min.css set `[hidden] { display: none !important; }` so we also need the `!important` here to be able to override the default hidden behavior on the sphinx rendered scikit-learn.org. See: https://github.com/scikit-learn/scikit-learn/issues/21755 */display: inline-block !important;position: relative;}#sk-container-id-1 div.sk-text-repr-fallback {display: none;}</style><div id=\"sk-container-id-1\" class=\"sk-top-container\"><div class=\"sk-text-repr-fallback\"><pre>LogisticRegression(class_weight=&#x27;balanced&#x27;, solver=&#x27;sag&#x27;)</pre><b>In a Jupyter environment, please rerun this cell to show the HTML representation or trust the notebook. <br />On GitHub, the HTML representation is unable to render, please try loading this page with nbviewer.org.</b></div><div class=\"sk-container\" hidden><div class=\"sk-item\"><div class=\"sk-estimator sk-toggleable\"><input class=\"sk-toggleable__control sk-hidden--visually\" id=\"sk-estimator-id-1\" type=\"checkbox\" checked><label for=\"sk-estimator-id-1\" class=\"sk-toggleable__label sk-toggleable__label-arrow\">LogisticRegression</label><div class=\"sk-toggleable__content\"><pre>LogisticRegression(class_weight=&#x27;balanced&#x27;, solver=&#x27;sag&#x27;)</pre></div></div></div></div></div>"
            ]
          },
          "metadata": {},
          "execution_count": 34
        }
      ],
      "source": [
        "model.fit(X_train, train['y_train'])"
      ]
    },
    {
      "cell_type": "code",
      "execution_count": 35,
      "metadata": {
        "id": "RjbeRgJ0QLXo"
      },
      "outputs": [],
      "source": [
        "y_pred = model.predict(X_test)\n",
        "test['y_pred'] = y_pred"
      ]
    },
    {
      "cell_type": "markdown",
      "source": [
        "\"Завернем\" предсказанные классы видео обратно в каналы и присвоим каналу тот класс, которого больше всего."
      ],
      "metadata": {
        "id": "8Gu-2Bgb9JX8"
      }
    },
    {
      "cell_type": "code",
      "source": [
        " test_data_modefied = test.groupby('index')['y_pred', 'y_test'].agg(lambda x: np.bincount(x).argmax())"
      ],
      "metadata": {
        "colab": {
          "base_uri": "https://localhost:8080/"
        },
        "id": "6zkTCOpF3kG9",
        "outputId": "ddf002a5-0c24-4d41-9ad1-512ae8c915c4"
      },
      "execution_count": 36,
      "outputs": [
        {
          "output_type": "stream",
          "name": "stderr",
          "text": [
            "<ipython-input-36-630ea2e71c51>:1: FutureWarning: Indexing with multiple keys (implicitly converted to a tuple of keys) will be deprecated, use a list instead.\n",
            "  test_data_modefied = test.groupby('index')['y_pred', 'y_test'].agg(lambda x: np.bincount(x).argmax())\n"
          ]
        }
      ]
    },
    {
      "cell_type": "code",
      "source": [
        "print('Классы присвоенные каждому каналу по сгруппированным предсказаниям класса входящих видео')\n",
        "print(classification_report(test_data_modefied['y_test'], test_data_modefied['y_pred'], zero_division=0))\n",
        "sns.heatmap(confusion_matrix(test_data_modefied['y_test'], test_data_modefied['y_pred']), annot=True)\n"
      ],
      "metadata": {
        "colab": {
          "base_uri": "https://localhost:8080/",
          "height": 799
        },
        "id": "HGZFwls_t0-t",
        "outputId": "95b81644-b75a-4c8a-a2fa-6380c7e6ed58"
      },
      "execution_count": 37,
      "outputs": [
        {
          "output_type": "stream",
          "name": "stdout",
          "text": [
            "Классы присвоенные каждому каналу по сгруппированным предсказаниям класса входящих видео\n",
            "              precision    recall  f1-score   support\n",
            "\n",
            "           0       0.47      0.30      0.37        63\n",
            "           1       0.83      0.94      0.88        98\n",
            "           2       0.77      0.90      0.83        98\n",
            "           3       0.76      0.68      0.71        96\n",
            "           4       0.45      0.55      0.49        97\n",
            "           5       0.79      0.80      0.79        98\n",
            "           6       0.30      0.26      0.28        96\n",
            "           7       0.92      0.96      0.94        97\n",
            "           8       0.81      0.83      0.82       100\n",
            "           9       0.83      0.95      0.89       100\n",
            "          10       0.65      0.47      0.55        97\n",
            "\n",
            "    accuracy                           0.71      1040\n",
            "   macro avg       0.69      0.69      0.69      1040\n",
            "weighted avg       0.70      0.71      0.70      1040\n",
            "\n"
          ]
        },
        {
          "output_type": "execute_result",
          "data": {
            "text/plain": [
              "<Axes: >"
            ]
          },
          "metadata": {},
          "execution_count": 37
        },
        {
          "output_type": "display_data",
          "data": {
            "text/plain": [
              "<Figure size 640x480 with 2 Axes>"
            ],
            "image/png": "[encoded data removed]"
          },
          "metadata": {}
        }
      ]
    },
    {
      "cell_type": "code",
      "execution_count": 38,
      "metadata": {
        "id": "tFwBVoOARaRo",
        "colab": {
          "base_uri": "https://localhost:8080/",
          "height": 799
        },
        "outputId": "8dd7641a-2174-4c38-d88e-01e0c30523b5"
      },
      "outputs": [
        {
          "output_type": "stream",
          "name": "stdout",
          "text": [
            "Классы присвоенному каждому видео без группировки по каналам\n",
            "              precision    recall  f1-score   support\n",
            "\n",
            "           0       0.26      0.26      0.26      2748\n",
            "           1       0.71      0.74      0.73      4866\n",
            "           2       0.70      0.69      0.70      4667\n",
            "           3       0.59      0.54      0.56      4642\n",
            "           4       0.34      0.42      0.38      4794\n",
            "           5       0.65      0.55      0.60      4756\n",
            "           6       0.25      0.23      0.24      4767\n",
            "           7       0.72      0.75      0.73      4711\n",
            "           8       0.63      0.67      0.65      4966\n",
            "           9       0.71      0.76      0.73      4873\n",
            "          10       0.48      0.40      0.43      4661\n",
            "\n",
            "    accuracy                           0.56     50451\n",
            "   macro avg       0.55      0.55      0.55     50451\n",
            "weighted avg       0.56      0.56      0.56     50451\n",
            "\n"
          ]
        },
        {
          "output_type": "execute_result",
          "data": {
            "text/plain": [
              "<Axes: >"
            ]
          },
          "metadata": {},
          "execution_count": 38
        },
        {
          "output_type": "display_data",
          "data": {
            "text/plain": [
              "<Figure size 640x480 with 2 Axes>"
            ],
            "image/png": "[encoded data removed]"
          },
          "metadata": {}
        }
      ],
      "source": [
        "print('Классы присвоенному каждому видео без группировки по каналам')\n",
        "print(classification_report(test['y_test'], y_pred, zero_division=0))\n",
        "sns.heatmap(confusion_matrix(test['y_test'], y_pred), annot=True)\n"
      ]
    },
    {
      "cell_type": "markdown",
      "source": [
        "По отдельным видео видно,что классификатор работает хуже, но как видно было ранее, после группировки метрика подрастает"
      ],
      "metadata": {
        "id": "mKr6Z8p8AcQc"
      }
    },
    {
      "cell_type": "markdown",
      "source": [
        "Кросс валидацию тут проводить не будем, т.к. тут надо аккуратнно делить выборку, т.к. видео из одного канала нужно держать вместе.  \n",
        "Сделаем следующем этапе  "
      ],
      "metadata": {
        "id": "T3xXEcpn-ckP"
      }
    },
    {
      "cell_type": "markdown",
      "source": [
        "#### TFIDF без explode"
      ],
      "metadata": {
        "id": "3-QA0DbB-lOc"
      }
    },
    {
      "cell_type": "markdown",
      "source": [
        "А теперь просто соединими наши названия в одну строку и передадми TFIDF"
      ],
      "metadata": {
        "id": "JjmgU_uC-BFP"
      }
    },
    {
      "cell_type": "code",
      "source": [
        "df['video_titles'].apply(lambda x: ''.join(x))"
      ],
      "metadata": {
        "colab": {
          "base_uri": "https://localhost:8080/"
        },
        "id": "g8kHGR0h_CiC",
        "outputId": "a9e44182-b9f6-4e04-94fc-6ef036eb81a0"
      },
      "execution_count": 39,
      "outputs": [
        {
          "output_type": "execute_result",
          "data": {
            "text/plain": [
              "0       24 Часа в ИГЛУ ! * ВЫЖИВАНИЕ 1 ЧАС ВЛОГ *Экстр...\n",
              "1       ОГРОМНАЯ ЗМЕЮКА ► Resident Evil HD Remaster #3...\n",
              "2       ИДЕАЛЬНАЯ ШКОЛА (смешное видео, приколы, юмор,...\n",
              "3       Самый Везучий Выиграет 200.000! (Горилла, Коре...\n",
              "4       ❌Дети совсем с ума сошли со «Слова пацана»  #l...\n",
              "                              ...                        \n",
              "5492    04 08 2023 Дилиёр & Махлия часть 203 11 2023 6...\n",
              "5493    #стандофф2 #best #standoff2 #игры #мувик #демк...\n",
              "5495    12 августа 2023 г.Таалай Кожомкулов: \"Токойчу ...\n",
              "5497    Смешной анекдот в миреАнекдоты самыеСамый смеш...\n",
              "5498    wild outdoor Growerz prod. АУТ 2023. Финальная...\n",
              "Name: video_titles, Length: 5198, dtype: object"
            ]
          },
          "metadata": {},
          "execution_count": 39
        }
      ]
    },
    {
      "cell_type": "code",
      "source": [
        "train, test, y_train, y_test = train_test_split(df['video_titles'].apply(remove_accented_chars).apply(remove_control_characters).apply(lambda x: ''.join(x)), df['target_token'], test_size=0.2, random_state=42, stratify=df['target_token'])"
      ],
      "metadata": {
        "id": "-hvsLrba-4Lx"
      },
      "execution_count": 40,
      "outputs": []
    },
    {
      "cell_type": "code",
      "source": [
        "tfidf = TfidfVectorizer(stop_words=stopwords.words('russian'), ngram_range=(1,1))\n",
        "X_train = tfidf.fit_transform(train)\n",
        "X_test = tfidf.transform(test)"
      ],
      "metadata": {
        "id": "OJJlQfS861Ko"
      },
      "execution_count": 41,
      "outputs": []
    },
    {
      "cell_type": "code",
      "source": [
        "X_train"
      ],
      "metadata": {
        "colab": {
          "base_uri": "https://localhost:8080/"
        },
        "id": "V6qa2Ky461Mv",
        "outputId": "e1674873-c65c-45e0-83df-38150e65f047"
      },
      "execution_count": 42,
      "outputs": [
        {
          "output_type": "execute_result",
          "data": {
            "text/plain": [
              "<4158x271342 sparse matrix of type '<class 'numpy.float64'>'\n",
              "\twith 648840 stored elements in Compressed Sparse Row format>"
            ]
          },
          "metadata": {},
          "execution_count": 42
        }
      ]
    },
    {
      "cell_type": "code",
      "source": [
        "model = LogisticRegression(solver='sag', class_weight='balanced')\n",
        "model.fit(X_train, y_train)"
      ],
      "metadata": {
        "colab": {
          "base_uri": "https://localhost:8080/",
          "height": 75
        },
        "id": "4Chbk1a-61PK",
        "outputId": "c4b0b5f9-b4f9-4127-eea9-8ba4de0e91a5"
      },
      "execution_count": 43,
      "outputs": [
        {
          "output_type": "execute_result",
          "data": {
            "text/plain": [
              "LogisticRegression(class_weight='balanced', solver='sag')"
            ],
            "text/html": [
              "<style>#sk-container-id-2 {color: black;background-color: white;}#sk-container-id-2 pre{padding: 0;}#sk-container-id-2 div.sk-toggleable {background-color: white;}#sk-container-id-2 label.sk-toggleable__label {cursor: pointer;display: block;width: 100%;margin-bottom: 0;padding: 0.3em;box-sizing: border-box;text-align: center;}#sk-container-id-2 label.sk-toggleable__label-arrow:before {content: \"▸\";float: left;margin-right: 0.25em;color: #696969;}#sk-container-id-2 label.sk-toggleable__label-arrow:hover:before {color: black;}#sk-container-id-2 div.sk-estimator:hover label.sk-toggleable__label-arrow:before {color: black;}#sk-container-id-2 div.sk-toggleable__content {max-height: 0;max-width: 0;overflow: hidden;text-align: left;background-color: #f0f8ff;}#sk-container-id-2 div.sk-toggleable__content pre {margin: 0.2em;color: black;border-radius: 0.25em;background-color: #f0f8ff;}#sk-container-id-2 input.sk-toggleable__control:checked~div.sk-toggleable__content {max-height: 200px;max-width: 100%;overflow: auto;}#sk-container-id-2 input.sk-toggleable__control:checked~label.sk-toggleable__label-arrow:before {content: \"▾\";}#sk-container-id-2 div.sk-estimator input.sk-toggleable__control:checked~label.sk-toggleable__label {background-color: #d4ebff;}#sk-container-id-2 div.sk-label input.sk-toggleable__control:checked~label.sk-toggleable__label {background-color: #d4ebff;}#sk-container-id-2 input.sk-hidden--visually {border: 0;clip: rect(1px 1px 1px 1px);clip: rect(1px, 1px, 1px, 1px);height: 1px;margin: -1px;overflow: hidden;padding: 0;position: absolute;width: 1px;}#sk-container-id-2 div.sk-estimator {font-family: monospace;background-color: #f0f8ff;border: 1px dotted black;border-radius: 0.25em;box-sizing: border-box;margin-bottom: 0.5em;}#sk-container-id-2 div.sk-estimator:hover {background-color: #d4ebff;}#sk-container-id-2 div.sk-parallel-item::after {content: \"\";width: 100%;border-bottom: 1px solid gray;flex-grow: 1;}#sk-container-id-2 div.sk-label:hover label.sk-toggleable__label {background-color: #d4ebff;}#sk-container-id-2 div.sk-serial::before {content: \"\";position: absolute;border-left: 1px solid gray;box-sizing: border-box;top: 0;bottom: 0;left: 50%;z-index: 0;}#sk-container-id-2 div.sk-serial {display: flex;flex-direction: column;align-items: center;background-color: white;padding-right: 0.2em;padding-left: 0.2em;position: relative;}#sk-container-id-2 div.sk-item {position: relative;z-index: 1;}#sk-container-id-2 div.sk-parallel {display: flex;align-items: stretch;justify-content: center;background-color: white;position: relative;}#sk-container-id-2 div.sk-item::before, #sk-container-id-2 div.sk-parallel-item::before {content: \"\";position: absolute;border-left: 1px solid gray;box-sizing: border-box;top: 0;bottom: 0;left: 50%;z-index: -1;}#sk-container-id-2 div.sk-parallel-item {display: flex;flex-direction: column;z-index: 1;position: relative;background-color: white;}#sk-container-id-2 div.sk-parallel-item:first-child::after {align-self: flex-end;width: 50%;}#sk-container-id-2 div.sk-parallel-item:last-child::after {align-self: flex-start;width: 50%;}#sk-container-id-2 div.sk-parallel-item:only-child::after {width: 0;}#sk-container-id-2 div.sk-dashed-wrapped {border: 1px dashed gray;margin: 0 0.4em 0.5em 0.4em;box-sizing: border-box;padding-bottom: 0.4em;background-color: white;}#sk-container-id-2 div.sk-label label {font-family: monospace;font-weight: bold;display: inline-block;line-height: 1.2em;}#sk-container-id-2 div.sk-label-container {text-align: center;}#sk-container-id-2 div.sk-container {/* jupyter's `normalize.less` sets `[hidden] { display: none; }` but bootstrap.min.css set `[hidden] { display: none !important; }` so we also need the `!important` here to be able to override the default hidden behavior on the sphinx rendered scikit-learn.org. See: https://github.com/scikit-learn/scikit-learn/issues/21755 */display: inline-block !important;position: relative;}#sk-container-id-2 div.sk-text-repr-fallback {display: none;}</style><div id=\"sk-container-id-2\" class=\"sk-top-container\"><div class=\"sk-text-repr-fallback\"><pre>LogisticRegression(class_weight=&#x27;balanced&#x27;, solver=&#x27;sag&#x27;)</pre><b>In a Jupyter environment, please rerun this cell to show the HTML representation or trust the notebook. <br />On GitHub, the HTML representation is unable to render, please try loading this page with nbviewer.org.</b></div><div class=\"sk-container\" hidden><div class=\"sk-item\"><div class=\"sk-estimator sk-toggleable\"><input class=\"sk-toggleable__control sk-hidden--visually\" id=\"sk-estimator-id-2\" type=\"checkbox\" checked><label for=\"sk-estimator-id-2\" class=\"sk-toggleable__label sk-toggleable__label-arrow\">LogisticRegression</label><div class=\"sk-toggleable__content\"><pre>LogisticRegression(class_weight=&#x27;balanced&#x27;, solver=&#x27;sag&#x27;)</pre></div></div></div></div></div>"
            ]
          },
          "metadata": {},
          "execution_count": 43
        }
      ]
    },
    {
      "cell_type": "code",
      "source": [
        "y_pred = model.predict(X_test)"
      ],
      "metadata": {
        "id": "yze0m-tL-uhF"
      },
      "execution_count": 44,
      "outputs": []
    },
    {
      "cell_type": "code",
      "source": [
        "print(classification_report(y_test, y_pred, zero_division=0))\n",
        "sns.heatmap(confusion_matrix(y_test, y_pred), annot=True)"
      ],
      "metadata": {
        "colab": {
          "base_uri": "https://localhost:8080/",
          "height": 781
        },
        "id": "HfiJzLot-ujx",
        "outputId": "f2765bbf-a9f8-4ad6-f4b8-f13396796a4b"
      },
      "execution_count": 45,
      "outputs": [
        {
          "output_type": "stream",
          "name": "stdout",
          "text": [
            "              precision    recall  f1-score   support\n",
            "\n",
            "           0       0.47      0.41      0.44        63\n",
            "           1       0.92      0.90      0.91        98\n",
            "           2       0.77      0.86      0.81        98\n",
            "           3       0.70      0.70      0.70        96\n",
            "           4       0.50      0.54      0.51        97\n",
            "           5       0.76      0.82      0.79        98\n",
            "           6       0.35      0.36      0.36        96\n",
            "           7       0.87      0.95      0.91        97\n",
            "           8       0.85      0.82      0.83       100\n",
            "           9       0.87      0.89      0.88       100\n",
            "          10       0.65      0.45      0.53        97\n",
            "\n",
            "    accuracy                           0.71      1040\n",
            "   macro avg       0.70      0.70      0.70      1040\n",
            "weighted avg       0.71      0.71      0.71      1040\n",
            "\n"
          ]
        },
        {
          "output_type": "execute_result",
          "data": {
            "text/plain": [
              "<Axes: >"
            ]
          },
          "metadata": {},
          "execution_count": 45
        },
        {
          "output_type": "display_data",
          "data": {
            "text/plain": [
              "<Figure size 640x480 with 2 Axes>"
            ],
            "image/png": "[encoded data removed]"
          },
          "metadata": {}
        }
      ]
    },
    {
      "cell_type": "markdown",
      "source": [
        "##### Проведем кроссвалидацию, посмотрим на стабильность работы модели."
      ],
      "metadata": {
        "id": "LisEhpLN-LN6"
      }
    },
    {
      "cell_type": "code",
      "source": [
        "\n",
        "stratified_kfold = StratifiedKFold(n_splits=10, shuffle=True, random_state=42)\n",
        "scores = cross_val_score(model, X_train, y_train.to_list(), cv=stratified_kfold, scoring='f1_macro')"
      ],
      "metadata": {
        "id": "7fLz8kQGG3Rh"
      },
      "execution_count": 46,
      "outputs": []
    },
    {
      "cell_type": "code",
      "source": [
        "scores"
      ],
      "metadata": {
        "colab": {
          "base_uri": "https://localhost:8080/"
        },
        "id": "NW0buufpG_2W",
        "outputId": "4c23485a-9d32-4baf-de84-e02fb93a7b2f"
      },
      "execution_count": 47,
      "outputs": [
        {
          "output_type": "execute_result",
          "data": {
            "text/plain": [
              "array([0.7071333 , 0.68321646, 0.69054668, 0.65416578, 0.69436669,\n",
              "       0.69291317, 0.67557713, 0.67685101, 0.67012971, 0.70900151])"
            ]
          },
          "metadata": {},
          "execution_count": 47
        }
      ]
    },
    {
      "cell_type": "markdown",
      "source": [
        "Как видим, разброс F1 не большой, можно считать, что модель работает стабильно на этих данных."
      ],
      "metadata": {
        "id": "wAzAmUrO-SMK"
      }
    },
    {
      "cell_type": "markdown",
      "source": [
        "#### TFIDF description channal"
      ],
      "metadata": {
        "id": "8M_TtyEy_4us"
      }
    },
    {
      "cell_type": "markdown",
      "source": [
        "Для интереса посмотрим, что нам даст предсказание по описанию каналов. Казалось бы это должен быть самый информативный источник, исходя из его названия."
      ],
      "metadata": {
        "id": "qcIQnwz4_C3C"
      }
    },
    {
      "cell_type": "code",
      "source": [
        "train, test, y_train, y_test = train_test_split(df['channel_description'], df['target_token'], test_size=0.2, random_state=42, stratify=df['target_token'])"
      ],
      "metadata": {
        "id": "9z7HuOj--umL"
      },
      "execution_count": 48,
      "outputs": []
    },
    {
      "cell_type": "code",
      "source": [
        "train"
      ],
      "metadata": {
        "colab": {
          "base_uri": "https://localhost:8080/"
        },
        "id": "bbYcjINnA-tL",
        "outputId": "22e81498-a86f-49d5-a9f1-39aa7ab38611"
      },
      "execution_count": 49,
      "outputs": [
        {
          "output_type": "execute_result",
          "data": {
            "text/plain": [
              "3516    Привет! Я певица Юлия Шереметьева\\nДобро пожал...\n",
              "4079    По вопросу личной консультации WhatsApp +79870...\n",
              "3700                                   За подписку мяукаю\n",
              "2129    Добро пожаловать на наш канал. Нас зовут Крист...\n",
              "1252    Привет) Меня зовут Алёна, можешь называть меня...\n",
              "                              ...                        \n",
              "590     https://vk.com/realpepperofficial - Мой паблик...\n",
              "1990    Блог о уборке, организации хранения и классных...\n",
              "2080    Популярность фигурного катания в России в посл...\n",
              "446     Если Смог Прочитать - Подпишись 💕🗡️\\n\\nСотрудн...\n",
              "2925    Меня Зовут Антон)\\nВсё ещё лучшие пивные обзор...\n",
              "Name: channel_description, Length: 4158, dtype: object"
            ]
          },
          "metadata": {},
          "execution_count": 49
        }
      ]
    },
    {
      "cell_type": "code",
      "source": [
        "tfidf = TfidfVectorizer(stop_words=stopwords.words('russian'), ngram_range=(1,1))\n",
        "X_train = tfidf.fit_transform(train)\n",
        "X_test = tfidf.transform(test)"
      ],
      "metadata": {
        "id": "J0GdKrX0-uob"
      },
      "execution_count": 50,
      "outputs": []
    },
    {
      "cell_type": "code",
      "source": [
        "X_train"
      ],
      "metadata": {
        "colab": {
          "base_uri": "https://localhost:8080/"
        },
        "id": "yfxu-b6xAMmk",
        "outputId": "1251853c-a90f-4dea-de92-4da3e93d3b9b"
      },
      "execution_count": 51,
      "outputs": [
        {
          "output_type": "execute_result",
          "data": {
            "text/plain": [
              "<4158x38785 sparse matrix of type '<class 'numpy.float64'>'\n",
              "\twith 134755 stored elements in Compressed Sparse Row format>"
            ]
          },
          "metadata": {},
          "execution_count": 51
        }
      ]
    },
    {
      "cell_type": "code",
      "source": [
        "model = LogisticRegression(solver='sag', class_weight='balanced')\n",
        "model.fit(X_train, y_train)"
      ],
      "metadata": {
        "colab": {
          "base_uri": "https://localhost:8080/",
          "height": 75
        },
        "id": "EW2HsqeHAMrS",
        "outputId": "81df4cef-33b0-4ff9-c20f-c8d99c73d81f"
      },
      "execution_count": 52,
      "outputs": [
        {
          "output_type": "execute_result",
          "data": {
            "text/plain": [
              "LogisticRegression(class_weight='balanced', solver='sag')"
            ],
            "text/html": [
              "<style>#sk-container-id-3 {color: black;background-color: white;}#sk-container-id-3 pre{padding: 0;}#sk-container-id-3 div.sk-toggleable {background-color: white;}#sk-container-id-3 label.sk-toggleable__label {cursor: pointer;display: block;width: 100%;margin-bottom: 0;padding: 0.3em;box-sizing: border-box;text-align: center;}#sk-container-id-3 label.sk-toggleable__label-arrow:before {content: \"▸\";float: left;margin-right: 0.25em;color: #696969;}#sk-container-id-3 label.sk-toggleable__label-arrow:hover:before {color: black;}#sk-container-id-3 div.sk-estimator:hover label.sk-toggleable__label-arrow:before {color: black;}#sk-container-id-3 div.sk-toggleable__content {max-height: 0;max-width: 0;overflow: hidden;text-align: left;background-color: #f0f8ff;}#sk-container-id-3 div.sk-toggleable__content pre {margin: 0.2em;color: black;border-radius: 0.25em;background-color: #f0f8ff;}#sk-container-id-3 input.sk-toggleable__control:checked~div.sk-toggleable__content {max-height: 200px;max-width: 100%;overflow: auto;}#sk-container-id-3 input.sk-toggleable__control:checked~label.sk-toggleable__label-arrow:before {content: \"▾\";}#sk-container-id-3 div.sk-estimator input.sk-toggleable__control:checked~label.sk-toggleable__label {background-color: #d4ebff;}#sk-container-id-3 div.sk-label input.sk-toggleable__control:checked~label.sk-toggleable__label {background-color: #d4ebff;}#sk-container-id-3 input.sk-hidden--visually {border: 0;clip: rect(1px 1px 1px 1px);clip: rect(1px, 1px, 1px, 1px);height: 1px;margin: -1px;overflow: hidden;padding: 0;position: absolute;width: 1px;}#sk-container-id-3 div.sk-estimator {font-family: monospace;background-color: #f0f8ff;border: 1px dotted black;border-radius: 0.25em;box-sizing: border-box;margin-bottom: 0.5em;}#sk-container-id-3 div.sk-estimator:hover {background-color: #d4ebff;}#sk-container-id-3 div.sk-parallel-item::after {content: \"\";width: 100%;border-bottom: 1px solid gray;flex-grow: 1;}#sk-container-id-3 div.sk-label:hover label.sk-toggleable__label {background-color: #d4ebff;}#sk-container-id-3 div.sk-serial::before {content: \"\";position: absolute;border-left: 1px solid gray;box-sizing: border-box;top: 0;bottom: 0;left: 50%;z-index: 0;}#sk-container-id-3 div.sk-serial {display: flex;flex-direction: column;align-items: center;background-color: white;padding-right: 0.2em;padding-left: 0.2em;position: relative;}#sk-container-id-3 div.sk-item {position: relative;z-index: 1;}#sk-container-id-3 div.sk-parallel {display: flex;align-items: stretch;justify-content: center;background-color: white;position: relative;}#sk-container-id-3 div.sk-item::before, #sk-container-id-3 div.sk-parallel-item::before {content: \"\";position: absolute;border-left: 1px solid gray;box-sizing: border-box;top: 0;bottom: 0;left: 50%;z-index: -1;}#sk-container-id-3 div.sk-parallel-item {display: flex;flex-direction: column;z-index: 1;position: relative;background-color: white;}#sk-container-id-3 div.sk-parallel-item:first-child::after {align-self: flex-end;width: 50%;}#sk-container-id-3 div.sk-parallel-item:last-child::after {align-self: flex-start;width: 50%;}#sk-container-id-3 div.sk-parallel-item:only-child::after {width: 0;}#sk-container-id-3 div.sk-dashed-wrapped {border: 1px dashed gray;margin: 0 0.4em 0.5em 0.4em;box-sizing: border-box;padding-bottom: 0.4em;background-color: white;}#sk-container-id-3 div.sk-label label {font-family: monospace;font-weight: bold;display: inline-block;line-height: 1.2em;}#sk-container-id-3 div.sk-label-container {text-align: center;}#sk-container-id-3 div.sk-container {/* jupyter's `normalize.less` sets `[hidden] { display: none; }` but bootstrap.min.css set `[hidden] { display: none !important; }` so we also need the `!important` here to be able to override the default hidden behavior on the sphinx rendered scikit-learn.org. See: https://github.com/scikit-learn/scikit-learn/issues/21755 */display: inline-block !important;position: relative;}#sk-container-id-3 div.sk-text-repr-fallback {display: none;}</style><div id=\"sk-container-id-3\" class=\"sk-top-container\"><div class=\"sk-text-repr-fallback\"><pre>LogisticRegression(class_weight=&#x27;balanced&#x27;, solver=&#x27;sag&#x27;)</pre><b>In a Jupyter environment, please rerun this cell to show the HTML representation or trust the notebook. <br />On GitHub, the HTML representation is unable to render, please try loading this page with nbviewer.org.</b></div><div class=\"sk-container\" hidden><div class=\"sk-item\"><div class=\"sk-estimator sk-toggleable\"><input class=\"sk-toggleable__control sk-hidden--visually\" id=\"sk-estimator-id-3\" type=\"checkbox\" checked><label for=\"sk-estimator-id-3\" class=\"sk-toggleable__label sk-toggleable__label-arrow\">LogisticRegression</label><div class=\"sk-toggleable__content\"><pre>LogisticRegression(class_weight=&#x27;balanced&#x27;, solver=&#x27;sag&#x27;)</pre></div></div></div></div></div>"
            ]
          },
          "metadata": {},
          "execution_count": 52
        }
      ]
    },
    {
      "cell_type": "code",
      "source": [
        "y_pred = model.predict(X_test)"
      ],
      "metadata": {
        "id": "3A2dEob_AMt6"
      },
      "execution_count": 53,
      "outputs": []
    },
    {
      "cell_type": "code",
      "source": [
        "print(classification_report(y_test, y_pred, zero_division=0))\n",
        "sns.heatmap(confusion_matrix(y_test, y_pred), annot=True)"
      ],
      "metadata": {
        "colab": {
          "base_uri": "https://localhost:8080/",
          "height": 781
        },
        "id": "D_qHn_RR-uqs",
        "outputId": "543ac32d-17e2-4026-f83c-1365eda56d0f"
      },
      "execution_count": 54,
      "outputs": [
        {
          "output_type": "stream",
          "name": "stdout",
          "text": [
            "              precision    recall  f1-score   support\n",
            "\n",
            "           0       0.21      0.24      0.22        63\n",
            "           1       0.62      0.61      0.62        98\n",
            "           2       0.56      0.65      0.60        98\n",
            "           3       0.59      0.56      0.58        96\n",
            "           4       0.45      0.45      0.45        97\n",
            "           5       0.69      0.59      0.64        98\n",
            "           6       0.28      0.28      0.28        96\n",
            "           7       0.69      0.60      0.64        97\n",
            "           8       0.62      0.66      0.64       100\n",
            "           9       0.71      0.78      0.74       100\n",
            "          10       0.47      0.42      0.44        97\n",
            "\n",
            "    accuracy                           0.54      1040\n",
            "   macro avg       0.54      0.53      0.53      1040\n",
            "weighted avg       0.55      0.54      0.54      1040\n",
            "\n"
          ]
        },
        {
          "output_type": "execute_result",
          "data": {
            "text/plain": [
              "<Axes: >"
            ]
          },
          "metadata": {},
          "execution_count": 54
        },
        {
          "output_type": "display_data",
          "data": {
            "text/plain": [
              "<Figure size 640x480 with 2 Axes>"
            ],
            "image/png": "[encoded data removed]"
          },
          "metadata": {}
        }
      ]
    },
    {
      "cell_type": "markdown",
      "source": [
        "### Вывод  \n",
        "Обучили 3 разных модели TFIDF.  \n",
        "В целом лучше всего просто объединить названия видео в одно и на нем обучать TFIDF.  F1 = 0.7 это не так плохо, но хотелось бы лучше.  \n",
        "Эксперемент с классификацией по описаниям каналов не удался, F1 = 0.5, что очень мало.  \n",
        "Остается учиться и предсказывать только на названиях видео."
      ],
      "metadata": {
        "id": "dR6G0jY3_Qln"
      }
    },
    {
      "cell_type": "markdown",
      "metadata": {
        "id": "_afwv4G8hRw_"
      },
      "source": [
        "#BERT"
      ]
    },
    {
      "cell_type": "code",
      "execution_count": 55,
      "metadata": {
        "id": "kowkaqns172E"
      },
      "outputs": [],
      "source": [
        "def f1_score_func_m(preds, labels, average='binary'):\n",
        "    \"\"\"\n",
        "    Вычисляет F1-меру для многоклассовой или бинарной классификации.\n",
        "\n",
        "    Параметры:\n",
        "    - preds: numpy array, прогнозы модели\n",
        "    - labels: numpy array, истинные метки\n",
        "    - average: строка, опциональный параметр, задающий тип усреднения (по умолчанию 'binary')\n",
        "\n",
        "    Возвращает:\n",
        "    - f1_score: float, F1-мера\n",
        "    \"\"\"\n",
        "\n",
        "    preds_flat = np.argmax(preds, axis=1).flatten()\n",
        "    labels_flat = labels.flatten()\n",
        "    f1 = f1_score(labels_flat, preds_flat, average=average)\n",
        "\n",
        "    return f1"
      ]
    },
    {
      "cell_type": "code",
      "execution_count": 56,
      "metadata": {
        "id": "E9-nLpcepMrs"
      },
      "outputs": [],
      "source": [
        "if torch.cuda.is_available() == True:\n",
        "    device = torch.device('cuda')\n",
        "else:\n",
        "    device = torch.device('cpu')"
      ]
    },
    {
      "cell_type": "code",
      "execution_count": 57,
      "metadata": {
        "id": "vX5Ta7PhaKjv"
      },
      "outputs": [],
      "source": [
        "train, test, y_train, y_test = train_test_split(df['video_titles'], df['target_token'], test_size=0.2, random_state=42, stratify=df['target_token'])"
      ]
    },
    {
      "cell_type": "code",
      "source": [
        "df_test = pd.DataFrame()\n",
        "df_test['test'] = test\n",
        "df_test['y_test'] = y_test\n",
        "\n",
        "df_train = pd.DataFrame()\n",
        "df_train['train'] = train\n",
        "df_train['y_train'] = y_train\n",
        "\n",
        "train = df_train.explode('train').reset_index()\n",
        "test = df_test.explode('test').reset_index()"
      ],
      "metadata": {
        "id": "wSXcP-RJEHRZ"
      },
      "execution_count": 58,
      "outputs": []
    },
    {
      "cell_type": "code",
      "execution_count": 59,
      "metadata": {
        "id": "W6Rv7BUWhS7t"
      },
      "outputs": [],
      "source": [
        "HF = 'DeepPavlov/rubert-base-cased'"
      ]
    },
    {
      "cell_type": "code",
      "execution_count": 60,
      "metadata": {
        "id": "mExJLC-qiQ8F",
        "colab": {
          "base_uri": "https://localhost:8080/"
        },
        "outputId": "0a9b661d-89d3-402f-85c7-bcf01d14eebd"
      },
      "outputs": [
        {
          "output_type": "stream",
          "name": "stderr",
          "text": [
            "/usr/local/lib/python3.10/dist-packages/huggingface_hub/utils/_token.py:88: UserWarning: \n",
            "The secret `HF_TOKEN` does not exist in your Colab secrets.\n",
            "To authenticate with the Hugging Face Hub, create a token in your settings tab (https://huggingface.co/settings/tokens), set it as secret in your Google Colab and restart your session.\n",
            "You will be able to reuse this secret in all of your notebooks.\n",
            "Please note that authentication is recommended but still optional to access public models or datasets.\n",
            "  warnings.warn(\n"
          ]
        }
      ],
      "source": [
        "tokenizer = AutoTokenizer.from_pretrained(HF, do_lower_case=True)"
      ]
    },
    {
      "cell_type": "code",
      "execution_count": 61,
      "metadata": {
        "id": "xrG1ScO9iQ_3"
      },
      "outputs": [],
      "source": [
        "encoded_data_train = tokenizer.batch_encode_plus(\n",
        "    train['train'].to_list(),\n",
        "    padding=True,\n",
        "    truncation=True,\n",
        "    add_special_tokens=True,\n",
        "    return_attention_mask=True,\n",
        "    return_tensors='pt',\n",
        "    max_length=512\n",
        "\n",
        "\n",
        ")\n",
        "\n",
        "encoded_data_test = tokenizer.batch_encode_plus(\n",
        "    test['test'].to_list(),\n",
        "    add_special_tokens=True,\n",
        "    return_attention_mask=True,\n",
        "    padding=True,\n",
        "    return_tensors='pt',\n",
        "    max_length=512,\n",
        "    truncation=True\n",
        ")"
      ]
    },
    {
      "cell_type": "code",
      "execution_count": 62,
      "metadata": {
        "id": "OVwyjMXNir4s"
      },
      "outputs": [],
      "source": [
        "  train_seq = encoded_data_train['input_ids']\n",
        "  train_mask = encoded_data_train['attention_mask']\n",
        "  train_y = torch.tensor(train['y_train'].tolist())\n",
        "\n",
        "\n",
        "  test_seq = encoded_data_test['input_ids']\n",
        "  test_mask = encoded_data_test['attention_mask']\n",
        "  test_y = torch.tensor(test['y_test'].tolist())"
      ]
    },
    {
      "cell_type": "code",
      "source": [],
      "metadata": {
        "id": "uAaVTHplIaQb"
      },
      "execution_count": 62,
      "outputs": []
    },
    {
      "cell_type": "code",
      "execution_count": 63,
      "metadata": {
        "id": "kDojQbWLi1R5"
      },
      "outputs": [],
      "source": [
        "  batch_size = 3000\n",
        "  train_data = TensorDataset(train_seq, train_mask, train_y)\n",
        "  train_sampler = RandomSampler(train_data)\n",
        "  train_dataloader = DataLoader(train_data, sampler = train_sampler, batch_size = batch_size)\n",
        "\n",
        "  test_data =  TensorDataset(test_seq, test_mask, test_y)\n",
        "  test_sampler = SequentialSampler(test_data)\n",
        "  test_dataloader = DataLoader(test_data, sampler = test_sampler, batch_size = batch_size)\n"
      ]
    },
    {
      "cell_type": "code",
      "execution_count": 64,
      "metadata": {
        "id": "B8YaMtLSu6ZR"
      },
      "outputs": [],
      "source": [
        "# сбор и отчистка мусора перед обучением\n",
        "import gc\n",
        "gc.collect()\n",
        "torch.cuda.empty_cache()"
      ]
    },
    {
      "cell_type": "code",
      "execution_count": 65,
      "metadata": {
        "id": "CdBax8dCqUAP",
        "colab": {
          "base_uri": "https://localhost:8080/"
        },
        "outputId": "63ae3a88-6fc8-45d8-f1a4-360c5cef6ae7"
      },
      "outputs": [
        {
          "output_type": "stream",
          "name": "stderr",
          "text": [
            "Some weights of BertForSequenceClassification were not initialized from the model checkpoint at DeepPavlov/rubert-base-cased and are newly initialized: ['classifier.weight', 'classifier.bias']\n",
            "You should probably TRAIN this model on a down-stream task to be able to use it for predictions and inference.\n"
          ]
        },
        {
          "output_type": "execute_result",
          "data": {
            "text/plain": [
              "BertForSequenceClassification(\n",
              "  (bert): BertModel(\n",
              "    (embeddings): BertEmbeddings(\n",
              "      (word_embeddings): Embedding(119547, 768, padding_idx=0)\n",
              "      (position_embeddings): Embedding(512, 768)\n",
              "      (token_type_embeddings): Embedding(2, 768)\n",
              "      (LayerNorm): LayerNorm((768,), eps=1e-12, elementwise_affine=True)\n",
              "      (dropout): Dropout(p=0.1, inplace=False)\n",
              "    )\n",
              "    (encoder): BertEncoder(\n",
              "      (layer): ModuleList(\n",
              "        (0-11): 12 x BertLayer(\n",
              "          (attention): BertAttention(\n",
              "            (self): BertSelfAttention(\n",
              "              (query): Linear(in_features=768, out_features=768, bias=True)\n",
              "              (key): Linear(in_features=768, out_features=768, bias=True)\n",
              "              (value): Linear(in_features=768, out_features=768, bias=True)\n",
              "              (dropout): Dropout(p=0.1, inplace=False)\n",
              "            )\n",
              "            (output): BertSelfOutput(\n",
              "              (dense): Linear(in_features=768, out_features=768, bias=True)\n",
              "              (LayerNorm): LayerNorm((768,), eps=1e-12, elementwise_affine=True)\n",
              "              (dropout): Dropout(p=0.1, inplace=False)\n",
              "            )\n",
              "          )\n",
              "          (intermediate): BertIntermediate(\n",
              "            (dense): Linear(in_features=768, out_features=3072, bias=True)\n",
              "            (intermediate_act_fn): GELUActivation()\n",
              "          )\n",
              "          (output): BertOutput(\n",
              "            (dense): Linear(in_features=3072, out_features=768, bias=True)\n",
              "            (LayerNorm): LayerNorm((768,), eps=1e-12, elementwise_affine=True)\n",
              "            (dropout): Dropout(p=0.1, inplace=False)\n",
              "          )\n",
              "        )\n",
              "      )\n",
              "    )\n",
              "    (pooler): BertPooler(\n",
              "      (dense): Linear(in_features=768, out_features=768, bias=True)\n",
              "      (activation): Tanh()\n",
              "    )\n",
              "  )\n",
              "  (dropout): Dropout(p=0.1, inplace=False)\n",
              "  (classifier): Linear(in_features=768, out_features=11, bias=True)\n",
              ")"
            ]
          },
          "metadata": {},
          "execution_count": 65
        }
      ],
      "source": [
        "model = AutoModelForSequenceClassification.from_pretrained(HF, num_labels=len(set(y_train)), ignore_mismatched_sizes=True)\n",
        "model.to(device)"
      ]
    },
    {
      "cell_type": "code",
      "execution_count": 66,
      "metadata": {
        "id": "oXfTz5o9lpOl",
        "colab": {
          "base_uri": "https://localhost:8080/"
        },
        "outputId": "b70b5d11-62aa-4534-a394-2a7b64624317"
      },
      "outputs": [
        {
          "output_type": "stream",
          "name": "stderr",
          "text": [
            "/usr/local/lib/python3.10/dist-packages/transformers/optimization.py:411: FutureWarning: This implementation of AdamW is deprecated and will be removed in a future version. Use the PyTorch implementation torch.optim.AdamW instead, or set `no_deprecation_warning=True` to disable this warning\n",
            "  warnings.warn(\n"
          ]
        }
      ],
      "source": [
        "epochs = 100\n",
        "\n",
        "optimizer = AdamW(model.parameters(), lr=1e-5)\n",
        "\n",
        "total_steps = len(train_dataloader) * epochs\n",
        "scheduler = get_linear_schedule_with_warmup(optimizer,num_warmup_steps=10, num_training_steps=total_steps)\n",
        "\n",
        "criterion = nn.CrossEntropyLoss()"
      ]
    },
    {
      "cell_type": "markdown",
      "source": [
        "Выберем слои, которые будем обучать"
      ],
      "metadata": {
        "id": "PZBFZfenN7Pj"
      }
    },
    {
      "cell_type": "code",
      "execution_count": 67,
      "metadata": {
        "id": "-qLZyxPic5iA"
      },
      "outputs": [],
      "source": [
        "for n,p in model.named_parameters():\n",
        "  if 'classifier' in n:\n",
        "    p.requires_grad = True\n",
        "  else:\n",
        "    p.requires_grad = False"
      ]
    },
    {
      "cell_type": "markdown",
      "source": [
        "Данный код закомменирован, т.к. выполняется долго."
      ],
      "metadata": {
        "id": "1EhdUHtmPH6-"
      }
    },
    {
      "cell_type": "code",
      "source": [
        "# best_valid_loss = float('inf')\n",
        "# train_losses = []\n",
        "# valid_losses = []\n",
        "# f_scores = []\n",
        "\n",
        "\n",
        "# for epoch in range(epochs):\n",
        "\n",
        "#     #train\n",
        "#     model.train()\n",
        "#     total_loss, total_accuracy = 0, 0\n",
        "#     total_preds = []\n",
        "#     for step, batch in tqdm(enumerate(train_dataloader), total = len(train_dataloader)):\n",
        "#       batch = [r.to(device) for r in batch]\n",
        "#       labels = batch[2].to(device)\n",
        "#       output = {'input_ids': batch[0],'attention_mask' : batch[1]}\n",
        "\n",
        "#       preds = model(**output)\n",
        "#       preds = preds['logits']\n",
        "#       loss = criterion(preds, labels)\n",
        "#       total_loss += loss.item()\n",
        "\n",
        "#       loss.backward()\n",
        "#       #torch.nn.utils.clip_grad_norm_(model.parameters(), 1,0)\n",
        "#       optimizer.step()\n",
        "#       scheduler.step()\n",
        "#       optimizer.zero_grad()\n",
        "#       preds = preds.detach().cpu().numpy()\n",
        "#       total_preds.append(preds)\n",
        "\n",
        "#     avg_loss = total_loss / len(train_dataloader)\n",
        "#     total_preds = np.concatenate(total_preds, axis = 0)\n",
        "\n",
        "#     #eval\n",
        "#     model.eval()\n",
        "\n",
        "#     eval_total_loss, eval_total_accuracy = 0,0\n",
        "#     eval_total_preds = []\n",
        "#     eval_total_labels = []\n",
        "\n",
        "#     for step, batch in tqdm(enumerate(test_dataloader), total = len(test_dataloader)):\n",
        "#         batch = [t.to(device) for t in batch]\n",
        "#         output = {'input_ids': batch[0],'attention_mask' : batch[1]}\n",
        "#         labels = batch[2].to(device)\n",
        "\n",
        "#         with torch.no_grad():\n",
        "#             preds = model(**output)\n",
        "#             preds = preds['logits']\n",
        "#             loss = criterion(preds, labels)\n",
        "#             eval_total_loss = total_loss + loss.item()\n",
        "#             preds = preds.detach().cpu().numpy()\n",
        "#             labels = labels.detach().cpu().numpy()\n",
        "#             eval_total_preds.append(preds)\n",
        "#             eval_total_labels.append(labels)\n",
        "#     eval_avg_loss = eval_total_loss / len(test_dataloader)\n",
        "#     eval_total_preds = np.concatenate(eval_total_preds, axis = 0)\n",
        "#     eval_total_labels = np.concatenate(eval_total_labels, axis = 0)\n",
        "\n",
        "#     #visual\n",
        "#     clear_output(True)\n",
        "\n",
        "#     if epoch % 10 == 0:\n",
        "#       print(classification_report(eval_total_labels, np.argmax(eval_total_preds, axis=1).flatten(), zero_division=0))\n",
        "\n",
        "#     if eval_avg_loss < best_valid_loss:\n",
        "#         best_valid_loss = eval_avg_loss\n",
        "#         torch.save(model.state_dict(), f'bert_{epoch}')\n",
        "\n",
        "#     train_losses.append(avg_loss)\n",
        "#     valid_losses.append(eval_avg_loss)\n",
        "#     score = f1_score_func_m(eval_total_preds, eval_total_labels, average='macro')\n",
        "#     f_scores.append(score)\n",
        "\n",
        "#     print(f'\\nTraining loss: {avg_loss:.3f}')\n",
        "#     print(f'Validation loss: {eval_avg_loss:.3f}')\n",
        "#     print(score)\n",
        "\n",
        "#     plt.plot(train_losses, label='train')\n",
        "#     plt.plot(valid_losses, label='valid')\n",
        "#     plt.plot(f_scores, label='f_score')\n",
        "#     plt.legend()\n",
        "#     plt.show()\n"
      ],
      "metadata": {
        "id": "-ps2tFgGPGcs"
      },
      "execution_count": 68,
      "outputs": []
    },
    {
      "cell_type": "markdown",
      "source": [
        "Были предприняты ряд попыток дообучить берт, использовать готовый, но в лучшем случае F1 был 0.6.  \n",
        "Попытки воспроизвести долго и модели тяжелые, поэтому вот так.  "
      ],
      "metadata": {
        "id": "3-48bjNPIF05"
      }
    },
    {
      "cell_type": "markdown",
      "source": [
        "FastText"
      ],
      "metadata": {
        "id": "3DSAc0gpxD6X"
      }
    },
    {
      "cell_type": "code",
      "source": [
        "train, test, y_train, y_test = train_test_split(df['video_titles'].apply(remove_accented_chars).apply(remove_control_characters), df['target_token'], test_size=0.2, random_state=42, stratify=df['target_token'])"
      ],
      "metadata": {
        "id": "OS-wii4AHbw_"
      },
      "execution_count": 69,
      "outputs": []
    },
    {
      "cell_type": "code",
      "source": [
        "df_test = pd.DataFrame()\n",
        "df_test['test'] = test\n",
        "df_test['y_test'] = y_test\n",
        "\n",
        "df_train = pd.DataFrame()\n",
        "df_train['train'] = train\n",
        "df_train['y_train'] = y_train\n",
        "\n",
        "train = df_train.explode('train').reset_index()\n",
        "test = df_test.explode('test').reset_index()\n",
        "\n",
        "train['train'] = train['train'].str.lower()\n",
        "test['test'] = test['test'].str.lower()"
      ],
      "metadata": {
        "id": "8ubWB0C5xMtq"
      },
      "execution_count": 70,
      "outputs": []
    },
    {
      "cell_type": "code",
      "source": [
        "train['video_titles_w_tokens'] = train.apply(lambda x: f'__label__' + str(x['y_train']) + ' ' + x['train'], axis=1)"
      ],
      "metadata": {
        "id": "hc4JjzyvHbzQ"
      },
      "execution_count": 71,
      "outputs": []
    },
    {
      "cell_type": "code",
      "source": [
        "with open('training_data.txt', 'w', encoding='utf-8') as file:\n",
        "  for text in train['video_titles_w_tokens']:\n",
        "    file.write(text)\n"
      ],
      "metadata": {
        "id": "XNsmmxtD-Gop"
      },
      "execution_count": 72,
      "outputs": []
    },
    {
      "cell_type": "code",
      "source": [
        "test.head()"
      ],
      "metadata": {
        "colab": {
          "base_uri": "https://localhost:8080/",
          "height": 206
        },
        "id": "ZfErlIJj3-oI",
        "outputId": "ef3fdb46-8b99-4573-8d38-0fc5a037f8d0"
      },
      "execution_count": 73,
      "outputs": [
        {
          "output_type": "execute_result",
          "data": {
            "text/plain": [
              "   index                                               test  y_test\n",
              "0   1322  асмр обзор набора lego batman   часть набор с ...       0\n",
              "1   1322   асмр педиатр проведет полный медицинский осмотр        0\n",
              "2   1322                                               асмр       0\n",
              "3   1322                                  асмр ночной стрим       0\n",
              "4   1322  за какую сумму сделать следующий триггер  asmr...       0"
            ],
            "text/html": [
              "\n",
              "  <div id=\"df-a4b53dc0-a1be-4353-a3ab-c8cae75cfcc2\" class=\"colab-df-container\">\n",
              "    <div>\n",
              "<style scoped>\n",
              "    .dataframe tbody tr th:only-of-type {\n",
              "        vertical-align: middle;\n",
              "    }\n",
              "\n",
              "    .dataframe tbody tr th {\n",
              "        vertical-align: top;\n",
              "    }\n",
              "\n",
              "    .dataframe thead th {\n",
              "        text-align: right;\n",
              "    }\n",
              "</style>\n",
              "<table border=\"1\" class=\"dataframe\">\n",
              "  <thead>\n",
              "    <tr style=\"text-align: right;\">\n",
              "      <th></th>\n",
              "      <th>index</th>\n",
              "      <th>test</th>\n",
              "      <th>y_test</th>\n",
              "    </tr>\n",
              "  </thead>\n",
              "  <tbody>\n",
              "    <tr>\n",
              "      <th>0</th>\n",
              "      <td>1322</td>\n",
              "      <td>асмр обзор набора lego batman   часть набор с ...</td>\n",
              "      <td>0</td>\n",
              "    </tr>\n",
              "    <tr>\n",
              "      <th>1</th>\n",
              "      <td>1322</td>\n",
              "      <td>асмр педиатр проведет полный медицинский осмотр</td>\n",
              "      <td>0</td>\n",
              "    </tr>\n",
              "    <tr>\n",
              "      <th>2</th>\n",
              "      <td>1322</td>\n",
              "      <td>асмр</td>\n",
              "      <td>0</td>\n",
              "    </tr>\n",
              "    <tr>\n",
              "      <th>3</th>\n",
              "      <td>1322</td>\n",
              "      <td>асмр ночной стрим</td>\n",
              "      <td>0</td>\n",
              "    </tr>\n",
              "    <tr>\n",
              "      <th>4</th>\n",
              "      <td>1322</td>\n",
              "      <td>за какую сумму сделать следующий триггер  asmr...</td>\n",
              "      <td>0</td>\n",
              "    </tr>\n",
              "  </tbody>\n",
              "</table>\n",
              "</div>\n",
              "    <div class=\"colab-df-buttons\">\n",
              "\n",
              "  <div class=\"colab-df-container\">\n",
              "    <button class=\"colab-df-convert\" onclick=\"convertToInteractive('df-a4b53dc0-a1be-4353-a3ab-c8cae75cfcc2')\"\n",
              "            title=\"Convert this dataframe to an interactive table.\"\n",
              "            style=\"display:none;\">\n",
              "\n",
              "  <svg xmlns=\"http://www.w3.org/2000/svg\" height=\"24px\" viewBox=\"0 -960 960 960\">\n",
              "    <path d=\"M120-120v-720h720v720H120Zm60-500h600v-160H180v160Zm220 220h160v-160H400v160Zm0 220h160v-160H400v160ZM180-400h160v-160H180v160Zm440 0h160v-160H620v160ZM180-180h160v-160H180v160Zm440 0h160v-160H620v160Z\"/>\n",
              "  </svg>\n",
              "    </button>\n",
              "\n",
              "  <style>\n",
              "    .colab-df-container {\n",
              "      display:flex;\n",
              "      gap: 12px;\n",
              "    }\n",
              "\n",
              "    .colab-df-convert {\n",
              "      background-color: #E8F0FE;\n",
              "      border: none;\n",
              "      border-radius: 50%;\n",
              "      cursor: pointer;\n",
              "      display: none;\n",
              "      fill: #1967D2;\n",
              "      height: 32px;\n",
              "      padding: 0 0 0 0;\n",
              "      width: 32px;\n",
              "    }\n",
              "\n",
              "    .colab-df-convert:hover {\n",
              "      background-color: #E2EBFA;\n",
              "      box-shadow: 0px 1px 2px rgba(60, 64, 67, 0.3), 0px 1px 3px 1px rgba(60, 64, 67, 0.15);\n",
              "      fill: #174EA6;\n",
              "    }\n",
              "\n",
              "    .colab-df-buttons div {\n",
              "      margin-bottom: 4px;\n",
              "    }\n",
              "\n",
              "    [theme=dark] .colab-df-convert {\n",
              "      background-color: #3B4455;\n",
              "      fill: #D2E3FC;\n",
              "    }\n",
              "\n",
              "    [theme=dark] .colab-df-convert:hover {\n",
              "      background-color: #434B5C;\n",
              "      box-shadow: 0px 1px 3px 1px rgba(0, 0, 0, 0.15);\n",
              "      filter: drop-shadow(0px 1px 2px rgba(0, 0, 0, 0.3));\n",
              "      fill: #FFFFFF;\n",
              "    }\n",
              "  </style>\n",
              "\n",
              "    <script>\n",
              "      const buttonEl =\n",
              "        document.querySelector('#df-a4b53dc0-a1be-4353-a3ab-c8cae75cfcc2 button.colab-df-convert');\n",
              "      buttonEl.style.display =\n",
              "        google.colab.kernel.accessAllowed ? 'block' : 'none';\n",
              "\n",
              "      async function convertToInteractive(key) {\n",
              "        const element = document.querySelector('#df-a4b53dc0-a1be-4353-a3ab-c8cae75cfcc2');\n",
              "        const dataTable =\n",
              "          await google.colab.kernel.invokeFunction('convertToInteractive',\n",
              "                                                    [key], {});\n",
              "        if (!dataTable) return;\n",
              "\n",
              "        const docLinkHtml = 'Like what you see? Visit the ' +\n",
              "          '<a target=\"_blank\" href=https://colab.research.google.com/notebooks/data_table.ipynb>data table notebook</a>'\n",
              "          + ' to learn more about interactive tables.';\n",
              "        element.innerHTML = '';\n",
              "        dataTable['output_type'] = 'display_data';\n",
              "        await google.colab.output.renderOutput(dataTable, element);\n",
              "        const docLink = document.createElement('div');\n",
              "        docLink.innerHTML = docLinkHtml;\n",
              "        element.appendChild(docLink);\n",
              "      }\n",
              "    </script>\n",
              "  </div>\n",
              "\n",
              "\n",
              "<div id=\"df-2a8dab91-2bfa-4564-9bf4-4b67d0b736dd\">\n",
              "  <button class=\"colab-df-quickchart\" onclick=\"quickchart('df-2a8dab91-2bfa-4564-9bf4-4b67d0b736dd')\"\n",
              "            title=\"Suggest charts\"\n",
              "            style=\"display:none;\">\n",
              "\n",
              "<svg xmlns=\"http://www.w3.org/2000/svg\" height=\"24px\"viewBox=\"0 0 24 24\"\n",
              "     width=\"24px\">\n",
              "    <g>\n",
              "        <path d=\"M19 3H5c-1.1 0-2 .9-2 2v14c0 1.1.9 2 2 2h14c1.1 0 2-.9 2-2V5c0-1.1-.9-2-2-2zM9 17H7v-7h2v7zm4 0h-2V7h2v10zm4 0h-2v-4h2v4z\"/>\n",
              "    </g>\n",
              "</svg>\n",
              "  </button>\n",
              "\n",
              "<style>\n",
              "  .colab-df-quickchart {\n",
              "      --bg-color: #E8F0FE;\n",
              "      --fill-color: #1967D2;\n",
              "      --hover-bg-color: #E2EBFA;\n",
              "      --hover-fill-color: #174EA6;\n",
              "      --disabled-fill-color: #AAA;\n",
              "      --disabled-bg-color: #DDD;\n",
              "  }\n",
              "\n",
              "  [theme=dark] .colab-df-quickchart {\n",
              "      --bg-color: #3B4455;\n",
              "      --fill-color: #D2E3FC;\n",
              "      --hover-bg-color: #434B5C;\n",
              "      --hover-fill-color: #FFFFFF;\n",
              "      --disabled-bg-color: #3B4455;\n",
              "      --disabled-fill-color: #666;\n",
              "  }\n",
              "\n",
              "  .colab-df-quickchart {\n",
              "    background-color: var(--bg-color);\n",
              "    border: none;\n",
              "    border-radius: 50%;\n",
              "    cursor: pointer;\n",
              "    display: none;\n",
              "    fill: var(--fill-color);\n",
              "    height: 32px;\n",
              "    padding: 0;\n",
              "    width: 32px;\n",
              "  }\n",
              "\n",
              "  .colab-df-quickchart:hover {\n",
              "    background-color: var(--hover-bg-color);\n",
              "    box-shadow: 0 1px 2px rgba(60, 64, 67, 0.3), 0 1px 3px 1px rgba(60, 64, 67, 0.15);\n",
              "    fill: var(--button-hover-fill-color);\n",
              "  }\n",
              "\n",
              "  .colab-df-quickchart-complete:disabled,\n",
              "  .colab-df-quickchart-complete:disabled:hover {\n",
              "    background-color: var(--disabled-bg-color);\n",
              "    fill: var(--disabled-fill-color);\n",
              "    box-shadow: none;\n",
              "  }\n",
              "\n",
              "  .colab-df-spinner {\n",
              "    border: 2px solid var(--fill-color);\n",
              "    border-color: transparent;\n",
              "    border-bottom-color: var(--fill-color);\n",
              "    animation:\n",
              "      spin 1s steps(1) infinite;\n",
              "  }\n",
              "\n",
              "  @keyframes spin {\n",
              "    0% {\n",
              "      border-color: transparent;\n",
              "      border-bottom-color: var(--fill-color);\n",
              "      border-left-color: var(--fill-color);\n",
              "    }\n",
              "    20% {\n",
              "      border-color: transparent;\n",
              "      border-left-color: var(--fill-color);\n",
              "      border-top-color: var(--fill-color);\n",
              "    }\n",
              "    30% {\n",
              "      border-color: transparent;\n",
              "      border-left-color: var(--fill-color);\n",
              "      border-top-color: var(--fill-color);\n",
              "      border-right-color: var(--fill-color);\n",
              "    }\n",
              "    40% {\n",
              "      border-color: transparent;\n",
              "      border-right-color: var(--fill-color);\n",
              "      border-top-color: var(--fill-color);\n",
              "    }\n",
              "    60% {\n",
              "      border-color: transparent;\n",
              "      border-right-color: var(--fill-color);\n",
              "    }\n",
              "    80% {\n",
              "      border-color: transparent;\n",
              "      border-right-color: var(--fill-color);\n",
              "      border-bottom-color: var(--fill-color);\n",
              "    }\n",
              "    90% {\n",
              "      border-color: transparent;\n",
              "      border-bottom-color: var(--fill-color);\n",
              "    }\n",
              "  }\n",
              "</style>\n",
              "\n",
              "  <script>\n",
              "    async function quickchart(key) {\n",
              "      const quickchartButtonEl =\n",
              "        document.querySelector('#' + key + ' button');\n",
              "      quickchartButtonEl.disabled = true;  // To prevent multiple clicks.\n",
              "      quickchartButtonEl.classList.add('colab-df-spinner');\n",
              "      try {\n",
              "        const charts = await google.colab.kernel.invokeFunction(\n",
              "            'suggestCharts', [key], {});\n",
              "      } catch (error) {\n",
              "        console.error('Error during call to suggestCharts:', error);\n",
              "      }\n",
              "      quickchartButtonEl.classList.remove('colab-df-spinner');\n",
              "      quickchartButtonEl.classList.add('colab-df-quickchart-complete');\n",
              "    }\n",
              "    (() => {\n",
              "      let quickchartButtonEl =\n",
              "        document.querySelector('#df-2a8dab91-2bfa-4564-9bf4-4b67d0b736dd button');\n",
              "      quickchartButtonEl.style.display =\n",
              "        google.colab.kernel.accessAllowed ? 'block' : 'none';\n",
              "    })();\n",
              "  </script>\n",
              "</div>\n",
              "\n",
              "    </div>\n",
              "  </div>\n"
            ]
          },
          "metadata": {},
          "execution_count": 73
        }
      ]
    },
    {
      "cell_type": "code",
      "execution_count": 74,
      "metadata": {
        "id": "nLDC08fEskkF",
        "colab": {
          "base_uri": "https://localhost:8080/"
        },
        "outputId": "971f0b6e-4e8b-4d8c-b36f-ea6cdf24de0a"
      },
      "outputs": [
        {
          "output_type": "stream",
          "name": "stdout",
          "text": [
            "50451\n"
          ]
        }
      ],
      "source": [
        "# Обучение модели\n",
        "model = fasttext.train_supervised(input='training_data.txt',dim=150, ws=5, epoch=15, lr=0.01, minCount=5)\n",
        "\n",
        "# Пример предсказания класса\n",
        "prediction = model.predict(test['test'].to_list())\n",
        "\n",
        "print(len(prediction[0]))\n",
        "pred = [int(i[0].split('__')[-1]) if i else 0 for i in prediction[0]]"
      ]
    },
    {
      "cell_type": "code",
      "execution_count": 75,
      "metadata": {
        "id": "mvoyLeAfn1yO",
        "colab": {
          "base_uri": "https://localhost:8080/",
          "height": 781
        },
        "outputId": "b88fc7a6-4ccf-4cd2-8996-40c95a1b69d1"
      },
      "outputs": [
        {
          "output_type": "stream",
          "name": "stdout",
          "text": [
            "              precision    recall  f1-score   support\n",
            "\n",
            "           0       0.07      0.27      0.10      2748\n",
            "           1       0.00      0.00      0.00      4866\n",
            "           2       0.00      0.00      0.00      4667\n",
            "           3       0.10      0.05      0.07      4642\n",
            "           4       0.00      0.00      0.00      4794\n",
            "           5       0.00      0.00      0.00      4756\n",
            "           6       0.00      0.00      0.00      4767\n",
            "           7       0.00      0.00      0.00      4711\n",
            "           8       0.00      0.00      0.00      4966\n",
            "           9       0.11      0.74      0.19      4873\n",
            "          10       0.11      0.07      0.09      4661\n",
            "\n",
            "    accuracy                           0.10     50451\n",
            "   macro avg       0.03      0.10      0.04     50451\n",
            "weighted avg       0.03      0.10      0.04     50451\n",
            "\n"
          ]
        },
        {
          "output_type": "execute_result",
          "data": {
            "text/plain": [
              "<Axes: >"
            ]
          },
          "metadata": {},
          "execution_count": 75
        },
        {
          "output_type": "display_data",
          "data": {
            "text/plain": [
              "<Figure size 640x480 with 2 Axes>"
            ],
            "image/png": "[encoded data removed]"
          },
          "metadata": {}
        }
      ],
      "source": [
        "print(classification_report(test['y_test'].to_list(), pred, zero_division=0))\n",
        "sns.heatmap(confusion_matrix(test['y_test'].to_list(), pred), annot=True)"
      ]
    },
    {
      "cell_type": "markdown",
      "source": [
        "FastText вообще не может классфицировать тексты, даже близко.  \n",
        "Скорее всего дело в том, что названия видео не представляют собой связанный текст, в котором можно определеить центральное слово и контекст.  "
      ],
      "metadata": {
        "id": "iOqHLf0WI043"
      }
    },
    {
      "cell_type": "code",
      "execution_count": 75,
      "metadata": {
        "id": "rrSYr3S7sAMM"
      },
      "outputs": [],
      "source": []
    },
    {
      "cell_type": "markdown",
      "source": [
        "## Вывод"
      ],
      "metadata": {
        "id": "GQlyDQTDJ3NV"
      }
    },
    {
      "cell_type": "markdown",
      "source": [
        "Нужно было построить классификатор каналов по категориям.  \n",
        "Для этого мы выгрузили через API описание каналов, последние 50 названий видео, описание этих видео.  \n",
        "Построили различные модели TFIDF, BERT, FastText.  \n",
        "Лучше всего показал себя TFIDF, BERT и FastText показали хуже результаты.  \n",
        "Причиной может быть отсутствие связанности слов в названиях видео.  "
      ],
      "metadata": {
        "id": "v4ZS3vHSJ6aZ"
      }
    },
    {
      "cell_type": "markdown",
      "source": [
        "### Что можно еще сделать?  \n",
        "По идее, описания канала и видео мало, для более точной классификации нужно брать сущности из самого видео.  \n",
        "Это может быть анализ видео ряда, звукового ряда или субтитров.   \n",
        "Тогда можно использовать более сложные нейросетевые модели для классификации."
      ],
      "metadata": {
        "id": "EvRa_jABV-mH"
      }
    },
    {
      "cell_type": "code",
      "source": [
        "###"
      ],
      "metadata": {
        "id": "z4hNHzFtV734"
      },
      "execution_count": null,
      "outputs": []
    },
    {
      "cell_type": "code",
      "source": [],
      "metadata": {
        "id": "VbaE1pSsRV1m"
      },
      "execution_count": 76,
      "outputs": []
    }
  ],
  "metadata": {
    "accelerator": "GPU",
    "colab": {
      "machine_shape": "hm",
      "provenance": []
    },
    "kernelspec": {
      "display_name": "Python 3",
      "name": "python3"
    },
    "language_info": {
      "name": "python"
    }
  },
  "nbformat": 4,
  "nbformat_minor": 0
}